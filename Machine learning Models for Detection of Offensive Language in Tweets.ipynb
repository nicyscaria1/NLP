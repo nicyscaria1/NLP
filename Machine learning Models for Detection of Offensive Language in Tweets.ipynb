{
 "cells": [
  {
   "cell_type": "markdown",
   "id": "08ba593a",
   "metadata": {},
   "source": [
    "# Machine learning Model for Identification of Offensive Language in Tweets\n",
    "###"
   ]
  },
  {
   "cell_type": "markdown",
   "id": "32c9158c",
   "metadata": {},
   "source": [
    "#### IMPORTING LIBRARIES AND NECESSARY UTILITIES"
   ]
  },
  {
   "cell_type": "code",
   "execution_count": 31,
   "id": "3ba20e94",
   "metadata": {},
   "outputs": [
    {
     "name": "stderr",
     "output_type": "stream",
     "text": [
      "[nltk_data] Downloading package stopwords to C:\\Users\\NICY\n",
      "[nltk_data]     SCARIA\\AppData\\Roaming\\nltk_data...\n",
      "[nltk_data]   Package stopwords is already up-to-date!\n",
      "[nltk_data] Downloading package punkt to C:\\Users\\NICY\n",
      "[nltk_data]     SCARIA\\AppData\\Roaming\\nltk_data...\n",
      "[nltk_data]   Package punkt is already up-to-date!\n"
     ]
    }
   ],
   "source": [
    "import warnings\n",
    "import re\n",
    "import numpy as np\n",
    "import pandas as pd\n",
    "import string\n",
    "import seaborn as sns\n",
    "from matplotlib import style\n",
    "import matplotlib.pyplot as plt\n",
    "from wordcloud import WordCloud\n",
    "import nltk\n",
    "from sklearn.model_selection import train_test_split\n",
    "from sklearn.feature_extraction.text import CountVectorizer\n",
    "warnings.simplefilter('ignore')\n",
    "\n",
    "nltk.download('stopwords')\n",
    "nltk.download('punkt')\n",
    "\n",
    "stopwords_eng = nltk.corpus.stopwords.words('english')\n",
    "punctuations = string.punctuation\n",
    "#from nltk.corpus import stopwords and punctuations\n",
    "\n",
    "wn = nltk.WordNetLemmatizer()\n",
    "ps = nltk.PorterStemmer()\n",
    "#from nltk.stem import WordNetLemmatizer\n",
    "#from nltk.stem import PorterStemmer"
   ]
  },
  {
   "cell_type": "markdown",
   "id": "dd0476c5",
   "metadata": {},
   "source": [
    "## Creation of DataFrame"
   ]
  },
  {
   "cell_type": "code",
   "execution_count": 2,
   "id": "0c0ea068",
   "metadata": {},
   "outputs": [
    {
     "data": {
      "text/html": [
       "<div>\n",
       "<style scoped>\n",
       "    .dataframe tbody tr th:only-of-type {\n",
       "        vertical-align: middle;\n",
       "    }\n",
       "\n",
       "    .dataframe tbody tr th {\n",
       "        vertical-align: top;\n",
       "    }\n",
       "\n",
       "    .dataframe thead th {\n",
       "        text-align: right;\n",
       "    }\n",
       "</style>\n",
       "<table border=\"1\" class=\"dataframe\">\n",
       "  <thead>\n",
       "    <tr style=\"text-align: right;\">\n",
       "      <th></th>\n",
       "      <th>ID</th>\n",
       "      <th>ORIGINAL_TWEET</th>\n",
       "      <th>LABEL</th>\n",
       "    </tr>\n",
       "  </thead>\n",
       "  <tbody>\n",
       "    <tr>\n",
       "      <th>0</th>\n",
       "      <td>86426</td>\n",
       "      <td>@USER She should ask a few native Americans what their take on this is.</td>\n",
       "      <td>OFF</td>\n",
       "    </tr>\n",
       "    <tr>\n",
       "      <th>1</th>\n",
       "      <td>90194</td>\n",
       "      <td>@USER @USER Go home you’re drunk!!! @USER #MAGA #Trump2020 👊🇺🇸👊 URL</td>\n",
       "      <td>OFF</td>\n",
       "    </tr>\n",
       "    <tr>\n",
       "      <th>2</th>\n",
       "      <td>16820</td>\n",
       "      <td>Amazon is investigating Chinese employees who are selling internal data to third-party sellers l...</td>\n",
       "      <td>NOT</td>\n",
       "    </tr>\n",
       "    <tr>\n",
       "      <th>3</th>\n",
       "      <td>62688</td>\n",
       "      <td>@USER Someone should'veTaken\" this piece of shit to a volcano. 😂\"</td>\n",
       "      <td>OFF</td>\n",
       "    </tr>\n",
       "    <tr>\n",
       "      <th>4</th>\n",
       "      <td>43605</td>\n",
       "      <td>@USER @USER Obama wanted liberals &amp;amp; illegals to move into red states</td>\n",
       "      <td>NOT</td>\n",
       "    </tr>\n",
       "  </tbody>\n",
       "</table>\n",
       "</div>"
      ],
      "text/plain": [
       "      ID  \\\n",
       "0  86426   \n",
       "1  90194   \n",
       "2  16820   \n",
       "3  62688   \n",
       "4  43605   \n",
       "\n",
       "                                                                                        ORIGINAL_TWEET  \\\n",
       "0                              @USER She should ask a few native Americans what their take on this is.   \n",
       "1                                  @USER @USER Go home you’re drunk!!! @USER #MAGA #Trump2020 👊🇺🇸👊 URL   \n",
       "2  Amazon is investigating Chinese employees who are selling internal data to third-party sellers l...   \n",
       "3                                    @USER Someone should'veTaken\" this piece of shit to a volcano. 😂\"   \n",
       "4                             @USER @USER Obama wanted liberals &amp; illegals to move into red states   \n",
       "\n",
       "  LABEL  \n",
       "0   OFF  \n",
       "1   OFF  \n",
       "2   NOT  \n",
       "3   OFF  \n",
       "4   NOT  "
      ]
     },
     "execution_count": 2,
     "metadata": {},
     "output_type": "execute_result"
    }
   ],
   "source": [
    "\n",
    "\n",
    "#Customizing the characters seen in the data frame to 100\n",
    "pd.set_option('display.max_colwidth', 100)\n",
    "# Creating a DataFrame\n",
    "tweet_df = pd.read_csv('training_olid.tsv',sep='\\t', usecols=['id', 'tweet', 'subtask_a'])\n",
    "tweet_df.columns = ['ID', 'ORIGINAL_TWEET', 'LABEL']\n",
    "tweet_df.head()"
   ]
  },
  {
   "cell_type": "markdown",
   "id": "e344cfb4",
   "metadata": {},
   "source": [
    "# #Data Exploration"
   ]
  },
  {
   "cell_type": "code",
   "execution_count": 3,
   "id": "987a82e5",
   "metadata": {},
   "outputs": [
    {
     "data": {
      "text/plain": [
       "LABEL\n",
       "NOT    8840\n",
       "OFF    4400\n",
       "Name: ID, dtype: int64"
      ]
     },
     "execution_count": 3,
     "metadata": {},
     "output_type": "execute_result"
    }
   ],
   "source": [
    "tweet_df.shape\n",
    "tweet_df.groupby('LABEL').ID.count()"
   ]
  },
  {
   "cell_type": "code",
   "execution_count": 4,
   "id": "aec5a6dc",
   "metadata": {},
   "outputs": [
    {
     "name": "stdout",
     "output_type": "stream",
     "text": [
      "0\n"
     ]
    }
   ],
   "source": [
    "#checking for null values in the tweet column\n",
    "print(tweet_df['ORIGINAL_TWEET'].isnull().sum())"
   ]
  },
  {
   "cell_type": "code",
   "execution_count": 5,
   "id": "3ebf3679",
   "metadata": {},
   "outputs": [
    {
     "data": {
      "text/plain": [
       "<Axes: xlabel='LABEL', ylabel='count'>"
      ]
     },
     "execution_count": 5,
     "metadata": {},
     "output_type": "execute_result"
    },
    {
     "data": {
      "image/png": "[encoded data removed]",
      "text/plain": [
       "<Figure size 640x480 with 1 Axes>"
      ]
     },
     "metadata": {},
     "output_type": "display_data"
    }
   ],
   "source": [
    "sns.countplot(data=tweet_df, x='LABEL')"
   ]
  },
  {
   "cell_type": "markdown",
   "id": "54fa07c3",
   "metadata": {},
   "source": [
    "# #DATA PREPROCESSING"
   ]
  },
  {
   "cell_type": "markdown",
   "id": "4440cc9a",
   "metadata": {},
   "source": [
    "### Selecting the required columns in the dataframe "
   ]
  },
  {
   "cell_type": "code",
   "execution_count": 6,
   "id": "d308a650",
   "metadata": {
    "scrolled": true
   },
   "outputs": [
    {
     "data": {
      "text/html": [
       "<div>\n",
       "<style scoped>\n",
       "    .dataframe tbody tr th:only-of-type {\n",
       "        vertical-align: middle;\n",
       "    }\n",
       "\n",
       "    .dataframe tbody tr th {\n",
       "        vertical-align: top;\n",
       "    }\n",
       "\n",
       "    .dataframe thead th {\n",
       "        text-align: right;\n",
       "    }\n",
       "</style>\n",
       "<table border=\"1\" class=\"dataframe\">\n",
       "  <thead>\n",
       "    <tr style=\"text-align: right;\">\n",
       "      <th></th>\n",
       "      <th>ORIGINAL_TWEET</th>\n",
       "      <th>LABEL</th>\n",
       "    </tr>\n",
       "  </thead>\n",
       "  <tbody>\n",
       "    <tr>\n",
       "      <th>0</th>\n",
       "      <td>@USER She should ask a few native Americans what their take on this is.</td>\n",
       "      <td>OFF</td>\n",
       "    </tr>\n",
       "    <tr>\n",
       "      <th>1</th>\n",
       "      <td>@USER @USER Go home you’re drunk!!! @USER #MAGA #Trump2020 👊🇺🇸👊 URL</td>\n",
       "      <td>OFF</td>\n",
       "    </tr>\n",
       "    <tr>\n",
       "      <th>2</th>\n",
       "      <td>Amazon is investigating Chinese employees who are selling internal data to third-party sellers l...</td>\n",
       "      <td>NOT</td>\n",
       "    </tr>\n",
       "    <tr>\n",
       "      <th>3</th>\n",
       "      <td>@USER Someone should'veTaken\" this piece of shit to a volcano. 😂\"</td>\n",
       "      <td>OFF</td>\n",
       "    </tr>\n",
       "    <tr>\n",
       "      <th>4</th>\n",
       "      <td>@USER @USER Obama wanted liberals &amp;amp; illegals to move into red states</td>\n",
       "      <td>NOT</td>\n",
       "    </tr>\n",
       "    <tr>\n",
       "      <th>...</th>\n",
       "      <td>...</td>\n",
       "      <td>...</td>\n",
       "    </tr>\n",
       "    <tr>\n",
       "      <th>13235</th>\n",
       "      <td>@USER Sometimes I get strong vibes from people and this man’s vibe is tens of millions of murder...</td>\n",
       "      <td>OFF</td>\n",
       "    </tr>\n",
       "    <tr>\n",
       "      <th>13236</th>\n",
       "      <td>Benidorm ✅  Creamfields ✅  Maga ✅   Not too shabby of a summer</td>\n",
       "      <td>NOT</td>\n",
       "    </tr>\n",
       "    <tr>\n",
       "      <th>13237</th>\n",
       "      <td>@USER And why report this garbage.  We don't give a crap.</td>\n",
       "      <td>OFF</td>\n",
       "    </tr>\n",
       "    <tr>\n",
       "      <th>13238</th>\n",
       "      <td>@USER Pussy</td>\n",
       "      <td>OFF</td>\n",
       "    </tr>\n",
       "    <tr>\n",
       "      <th>13239</th>\n",
       "      <td>#Spanishrevenge vs. #justice #HumanRights and #FreedomOfExpression #Spain is a  #fakedemocracy @...</td>\n",
       "      <td>NOT</td>\n",
       "    </tr>\n",
       "  </tbody>\n",
       "</table>\n",
       "<p>13240 rows × 2 columns</p>\n",
       "</div>"
      ],
      "text/plain": [
       "                                                                                            ORIGINAL_TWEET  \\\n",
       "0                                  @USER She should ask a few native Americans what their take on this is.   \n",
       "1                                      @USER @USER Go home you’re drunk!!! @USER #MAGA #Trump2020 👊🇺🇸👊 URL   \n",
       "2      Amazon is investigating Chinese employees who are selling internal data to third-party sellers l...   \n",
       "3                                        @USER Someone should'veTaken\" this piece of shit to a volcano. 😂\"   \n",
       "4                                 @USER @USER Obama wanted liberals &amp; illegals to move into red states   \n",
       "...                                                                                                    ...   \n",
       "13235  @USER Sometimes I get strong vibes from people and this man’s vibe is tens of millions of murder...   \n",
       "13236                                       Benidorm ✅  Creamfields ✅  Maga ✅   Not too shabby of a summer   \n",
       "13237                                            @USER And why report this garbage.  We don't give a crap.   \n",
       "13238                                                                                          @USER Pussy   \n",
       "13239  #Spanishrevenge vs. #justice #HumanRights and #FreedomOfExpression #Spain is a  #fakedemocracy @...   \n",
       "\n",
       "      LABEL  \n",
       "0       OFF  \n",
       "1       OFF  \n",
       "2       NOT  \n",
       "3       OFF  \n",
       "4       NOT  \n",
       "...     ...  \n",
       "13235   OFF  \n",
       "13236   NOT  \n",
       "13237   OFF  \n",
       "13238   OFF  \n",
       "13239   NOT  \n",
       "\n",
       "[13240 rows x 2 columns]"
      ]
     },
     "execution_count": 6,
     "metadata": {},
     "output_type": "execute_result"
    }
   ],
   "source": [
    "####Preprocessing the created dataframe\n",
    "\n",
    "#Selecting the label and tweet column for our further analysis\n",
    "tweet_df=tweet_df[['ORIGINAL_TWEET','LABEL']]\n",
    "tweet_df['LABEL'].unique()\n",
    "tweet_df"
   ]
  },
  {
   "cell_type": "markdown",
   "id": "0c1aeef4",
   "metadata": {},
   "source": [
    "### Data Cleaning"
   ]
  },
  {
   "cell_type": "markdown",
   "id": "d957cc43",
   "metadata": {},
   "source": [
    "####  Changing categorical values in label column to numerical values "
   ]
  },
  {
   "cell_type": "code",
   "execution_count": 7,
   "id": "a5227f62",
   "metadata": {},
   "outputs": [
    {
     "data": {
      "text/html": [
       "<div>\n",
       "<style scoped>\n",
       "    .dataframe tbody tr th:only-of-type {\n",
       "        vertical-align: middle;\n",
       "    }\n",
       "\n",
       "    .dataframe tbody tr th {\n",
       "        vertical-align: top;\n",
       "    }\n",
       "\n",
       "    .dataframe thead th {\n",
       "        text-align: right;\n",
       "    }\n",
       "</style>\n",
       "<table border=\"1\" class=\"dataframe\">\n",
       "  <thead>\n",
       "    <tr style=\"text-align: right;\">\n",
       "      <th></th>\n",
       "      <th>ORIGINAL_TWEET</th>\n",
       "      <th>LABEL</th>\n",
       "    </tr>\n",
       "  </thead>\n",
       "  <tbody>\n",
       "    <tr>\n",
       "      <th>0</th>\n",
       "      <td>@USER She should ask a few native Americans what their take on this is.</td>\n",
       "      <td>1</td>\n",
       "    </tr>\n",
       "    <tr>\n",
       "      <th>1</th>\n",
       "      <td>@USER @USER Go home you’re drunk!!! @USER #MAGA #Trump2020 👊🇺🇸👊 URL</td>\n",
       "      <td>1</td>\n",
       "    </tr>\n",
       "    <tr>\n",
       "      <th>2</th>\n",
       "      <td>Amazon is investigating Chinese employees who are selling internal data to third-party sellers l...</td>\n",
       "      <td>0</td>\n",
       "    </tr>\n",
       "    <tr>\n",
       "      <th>3</th>\n",
       "      <td>@USER Someone should'veTaken\" this piece of shit to a volcano. 😂\"</td>\n",
       "      <td>1</td>\n",
       "    </tr>\n",
       "    <tr>\n",
       "      <th>4</th>\n",
       "      <td>@USER @USER Obama wanted liberals &amp;amp; illegals to move into red states</td>\n",
       "      <td>0</td>\n",
       "    </tr>\n",
       "    <tr>\n",
       "      <th>...</th>\n",
       "      <td>...</td>\n",
       "      <td>...</td>\n",
       "    </tr>\n",
       "    <tr>\n",
       "      <th>13235</th>\n",
       "      <td>@USER Sometimes I get strong vibes from people and this man’s vibe is tens of millions of murder...</td>\n",
       "      <td>1</td>\n",
       "    </tr>\n",
       "    <tr>\n",
       "      <th>13236</th>\n",
       "      <td>Benidorm ✅  Creamfields ✅  Maga ✅   Not too shabby of a summer</td>\n",
       "      <td>0</td>\n",
       "    </tr>\n",
       "    <tr>\n",
       "      <th>13237</th>\n",
       "      <td>@USER And why report this garbage.  We don't give a crap.</td>\n",
       "      <td>1</td>\n",
       "    </tr>\n",
       "    <tr>\n",
       "      <th>13238</th>\n",
       "      <td>@USER Pussy</td>\n",
       "      <td>1</td>\n",
       "    </tr>\n",
       "    <tr>\n",
       "      <th>13239</th>\n",
       "      <td>#Spanishrevenge vs. #justice #HumanRights and #FreedomOfExpression #Spain is a  #fakedemocracy @...</td>\n",
       "      <td>0</td>\n",
       "    </tr>\n",
       "  </tbody>\n",
       "</table>\n",
       "<p>13240 rows × 2 columns</p>\n",
       "</div>"
      ],
      "text/plain": [
       "                                                                                            ORIGINAL_TWEET  \\\n",
       "0                                  @USER She should ask a few native Americans what their take on this is.   \n",
       "1                                      @USER @USER Go home you’re drunk!!! @USER #MAGA #Trump2020 👊🇺🇸👊 URL   \n",
       "2      Amazon is investigating Chinese employees who are selling internal data to third-party sellers l...   \n",
       "3                                        @USER Someone should'veTaken\" this piece of shit to a volcano. 😂\"   \n",
       "4                                 @USER @USER Obama wanted liberals &amp; illegals to move into red states   \n",
       "...                                                                                                    ...   \n",
       "13235  @USER Sometimes I get strong vibes from people and this man’s vibe is tens of millions of murder...   \n",
       "13236                                       Benidorm ✅  Creamfields ✅  Maga ✅   Not too shabby of a summer   \n",
       "13237                                            @USER And why report this garbage.  We don't give a crap.   \n",
       "13238                                                                                          @USER Pussy   \n",
       "13239  #Spanishrevenge vs. #justice #HumanRights and #FreedomOfExpression #Spain is a  #fakedemocracy @...   \n",
       "\n",
       "       LABEL  \n",
       "0          1  \n",
       "1          1  \n",
       "2          0  \n",
       "3          1  \n",
       "4          0  \n",
       "...      ...  \n",
       "13235      1  \n",
       "13236      0  \n",
       "13237      1  \n",
       "13238      1  \n",
       "13239      0  \n",
       "\n",
       "[13240 rows x 2 columns]"
      ]
     },
     "execution_count": 7,
     "metadata": {},
     "output_type": "execute_result"
    }
   ],
   "source": [
    "# Replacing the categorical values for easy understanding. (Assigning 1 and 0 to offensive and not offensive tweets respectively)\n",
    "tweet_df['LABEL'] = tweet_df['LABEL'].replace('OFF',1)\n",
    "tweet_df['LABEL'] = tweet_df['LABEL'].replace('NOT',0)\n",
    "\n",
    "# Printing unique values of label variables\n",
    "tweet_df['LABEL'].unique()\n",
    "tweet_df"
   ]
  },
  {
   "cell_type": "markdown",
   "id": "df0a227f",
   "metadata": {},
   "source": [
    "#### Normalization of Text in the Column 'Label'"
   ]
  },
  {
   "cell_type": "code",
   "execution_count": 8,
   "id": "51f92094",
   "metadata": {},
   "outputs": [],
   "source": [
    "#Removing '@USER', 'URL' and numbers from the dataframe\n",
    "tweet_df['TWEET']=tweet_df['ORIGINAL_TWEET'].str.replace('@USER', '')\n",
    "tweet_df['TWEET']=tweet_df['TWEET'].str.replace('URL', '')\n",
    "tweet_df['TWEET']=tweet_df['TWEET'].str.replace('[0-9]+', '')\n"
   ]
  },
  {
   "cell_type": "markdown",
   "id": "6400e0ad",
   "metadata": {},
   "source": [
    "####   Data Cleaning, Tokenization, Stopwords removal, Stemming, Lemmatizing"
   ]
  },
  {
   "cell_type": "code",
   "execution_count": 9,
   "id": "e2c664b1",
   "metadata": {},
   "outputs": [
    {
     "data": {
      "text/html": [
       "<div>\n",
       "<style scoped>\n",
       "    .dataframe tbody tr th:only-of-type {\n",
       "        vertical-align: middle;\n",
       "    }\n",
       "\n",
       "    .dataframe tbody tr th {\n",
       "        vertical-align: top;\n",
       "    }\n",
       "\n",
       "    .dataframe thead th {\n",
       "        text-align: right;\n",
       "    }\n",
       "</style>\n",
       "<table border=\"1\" class=\"dataframe\">\n",
       "  <thead>\n",
       "    <tr style=\"text-align: right;\">\n",
       "      <th></th>\n",
       "      <th>ORIGINAL_TWEET</th>\n",
       "      <th>LABEL</th>\n",
       "      <th>TWEET</th>\n",
       "      <th>clean_TWEET</th>\n",
       "    </tr>\n",
       "  </thead>\n",
       "  <tbody>\n",
       "    <tr>\n",
       "      <th>0</th>\n",
       "      <td>@USER She should ask a few native Americans what their take on this is.</td>\n",
       "      <td>1</td>\n",
       "      <td>She should ask a few native Americans what their take on this is.</td>\n",
       "      <td>ask nativ american take</td>\n",
       "    </tr>\n",
       "    <tr>\n",
       "      <th>1</th>\n",
       "      <td>@USER @USER Go home you’re drunk!!! @USER #MAGA #Trump2020 👊🇺🇸👊 URL</td>\n",
       "      <td>1</td>\n",
       "      <td>Go home you’re drunk!!!  #MAGA #Trump 👊🇺🇸👊</td>\n",
       "      <td>go home drunk maga trump</td>\n",
       "    </tr>\n",
       "    <tr>\n",
       "      <th>2</th>\n",
       "      <td>Amazon is investigating Chinese employees who are selling internal data to third-party sellers l...</td>\n",
       "      <td>0</td>\n",
       "      <td>Amazon is investigating Chinese employees who are selling internal data to third-party sellers l...</td>\n",
       "      <td>amazon investig chines employe sell intern data thirdparti seller look edg competit marketplac a...</td>\n",
       "    </tr>\n",
       "    <tr>\n",
       "      <th>3</th>\n",
       "      <td>@USER Someone should'veTaken\" this piece of shit to a volcano. 😂\"</td>\n",
       "      <td>1</td>\n",
       "      <td>Someone should'veTaken\" this piece of shit to a volcano. 😂\"</td>\n",
       "      <td>someon shouldvetaken piec shit volcano</td>\n",
       "    </tr>\n",
       "    <tr>\n",
       "      <th>4</th>\n",
       "      <td>@USER @USER Obama wanted liberals &amp;amp; illegals to move into red states</td>\n",
       "      <td>0</td>\n",
       "      <td>Obama wanted liberals &amp;amp; illegals to move into red states</td>\n",
       "      <td>obama want liber amp illeg move red state</td>\n",
       "    </tr>\n",
       "  </tbody>\n",
       "</table>\n",
       "</div>"
      ],
      "text/plain": [
       "                                                                                        ORIGINAL_TWEET  \\\n",
       "0                              @USER She should ask a few native Americans what their take on this is.   \n",
       "1                                  @USER @USER Go home you’re drunk!!! @USER #MAGA #Trump2020 👊🇺🇸👊 URL   \n",
       "2  Amazon is investigating Chinese employees who are selling internal data to third-party sellers l...   \n",
       "3                                    @USER Someone should'veTaken\" this piece of shit to a volcano. 😂\"   \n",
       "4                             @USER @USER Obama wanted liberals &amp; illegals to move into red states   \n",
       "\n",
       "   LABEL  \\\n",
       "0      1   \n",
       "1      1   \n",
       "2      0   \n",
       "3      1   \n",
       "4      0   \n",
       "\n",
       "                                                                                                 TWEET  \\\n",
       "0                                    She should ask a few native Americans what their take on this is.   \n",
       "1                                                          Go home you’re drunk!!!  #MAGA #Trump 👊🇺🇸👊    \n",
       "2  Amazon is investigating Chinese employees who are selling internal data to third-party sellers l...   \n",
       "3                                          Someone should'veTaken\" this piece of shit to a volcano. 😂\"   \n",
       "4                                         Obama wanted liberals &amp; illegals to move into red states   \n",
       "\n",
       "                                                                                           clean_TWEET  \n",
       "0                                                                              ask nativ american take  \n",
       "1                                                                            go home drunk maga trump   \n",
       "2  amazon investig chines employe sell intern data thirdparti seller look edg competit marketplac a...  \n",
       "3                                                              someon shouldvetaken piec shit volcano   \n",
       "4                                                            obama want liber amp illeg move red state  "
      ]
     },
     "execution_count": 9,
     "metadata": {},
     "output_type": "execute_result"
    }
   ],
   "source": [
    "# Cleaning Tweets by defining and calling a function for cleaning text\n",
    "\n",
    "def data_cleaning(text):\n",
    "    \n",
    "    #Removing Punctuations\n",
    "    text = \"\".join([char for char in text if char not in punctuations])\n",
    "    \n",
    "    #Removing repeating characters\n",
    "    text = re.sub(r'(.)1+', r'1', text)\n",
    "    \n",
    "    #Removing URLs\n",
    "    text = re.sub('((www.[^s]+)|(https?://[^s]+))',' ',text)\n",
    "    \n",
    "    # Tokenization\n",
    "    text = re.split('\\W+', text) #'\\W+' regex removes one or more non word characters\n",
    "    \n",
    "    # Stopwords removal \n",
    "    text = [word for word in text if word.lower() not in stopwords_eng]\n",
    "    \n",
    "    #Stemming tweets\n",
    "    text = [ps.stem(word) for word in text]\n",
    "    \n",
    "    #Lemmatizing tweets\n",
    "    text = \" \".join([word for word in text])\n",
    "    \n",
    "    return text\n",
    "\n",
    "#Using the user defined function on the tweet column and changing its name \n",
    "tweet_df['clean_TWEET'] = tweet_df['TWEET'].apply(lambda x: data_cleaning(x))\n",
    "tweet_df.head()"
   ]
  },
  {
   "cell_type": "markdown",
   "id": "a5d475fd",
   "metadata": {},
   "source": [
    "#### Checking for null values in the cleaned text"
   ]
  },
  {
   "cell_type": "code",
   "execution_count": 10,
   "id": "cdedaf02",
   "metadata": {},
   "outputs": [
    {
     "name": "stdout",
     "output_type": "stream",
     "text": [
      "0\n"
     ]
    }
   ],
   "source": [
    "print(tweet_df['clean_TWEET'].isnull().sum())"
   ]
  },
  {
   "cell_type": "markdown",
   "id": "a71ec34b",
   "metadata": {},
   "source": [
    "#### Using CountVectorizer to extract features of text in the cleaned tweets"
   ]
  },
  {
   "cell_type": "code",
   "execution_count": 14,
   "id": "1850f348",
   "metadata": {},
   "outputs": [
    {
     "name": "stdout",
     "output_type": "stream",
     "text": [
      "(13240, 14836)\n"
     ]
    }
   ],
   "source": [
    "#vectorisation\n",
    "from sklearn.feature_extraction.text import CountVectorizer\n",
    "from nltk.tokenize import word_tokenize\n",
    "\n",
    "count_vector = CountVectorizer(analyzer=word_tokenize)\n",
    "X = count_vector.fit_transform(tweet_df['clean_TWEET'])\n",
    "print(X.shape)\n"
   ]
  },
  {
   "cell_type": "markdown",
   "id": "2d89b0a4",
   "metadata": {},
   "source": [
    "### Preparation of Dataset"
   ]
  },
  {
   "cell_type": "code",
   "execution_count": 15,
   "id": "7f1194fd",
   "metadata": {},
   "outputs": [],
   "source": [
    "from sklearn.preprocessing import LabelEncoder\n",
    "leb = LabelEncoder()\n",
    "y = leb.fit_transform(tweet_df['LABEL'])"
   ]
  },
  {
   "cell_type": "code",
   "execution_count": 16,
   "id": "5767256e",
   "metadata": {},
   "outputs": [],
   "source": [
    "from sklearn.model_selection import train_test_split\n",
    "\n",
    "X_train, X_test, y_train, y_test = train_test_split(X, y, test_size=0.3, random_state=40)\n"
   ]
  },
  {
   "cell_type": "markdown",
   "id": "e9b43425",
   "metadata": {},
   "source": [
    "## Defining and Training Classifiers"
   ]
  },
  {
   "cell_type": "markdown",
   "id": "e169c7be",
   "metadata": {},
   "source": [
    "### 1. Naive Baye classifier"
   ]
  },
  {
   "cell_type": "code",
   "execution_count": 17,
   "id": "2aadac0b",
   "metadata": {},
   "outputs": [],
   "source": [
    "# Train classifier on the training split\n",
    "from sklearn.naive_bayes import MultinomialNB\n",
    "\n",
    "mnbayes_clf = MultinomialNB(force_alpha=True)\n",
    "mnbayes_clf = mnbayes_clf.fit(X_train, y_train)"
   ]
  },
  {
   "cell_type": "code",
   "execution_count": 18,
   "id": "f4873dc6",
   "metadata": {},
   "outputs": [
    {
     "name": "stdout",
     "output_type": "stream",
     "text": [
      "accuracy: 0.7392\n"
     ]
    }
   ],
   "source": [
    "# Evaluate performance on the test split\n",
    "import numpy as np\n",
    "\n",
    "pred_NB = mnbayes_clf.predict(X_test)\n",
    "accuracy = np.sum((pred_NB == y_test).astype(int)) / pred_NB.size\n",
    "print(\"accuracy: %.4f\" % (accuracy))"
   ]
  },
  {
   "cell_type": "code",
   "execution_count": 19,
   "id": "9fcc6952",
   "metadata": {},
   "outputs": [
    {
     "name": "stdout",
     "output_type": "stream",
     "text": [
      "Micro Evaluation: Precision: 0.7392; Recall: 0.7392; F1-Score: 0.7392\n",
      "Macro Evaluation: Precision: 0.7019; Recall: 0.6866; F1-Score: 0.6925\n"
     ]
    }
   ],
   "source": [
    "# Precision, Recall, F1-Score\n",
    "from sklearn.metrics import precision_recall_fscore_support as prfs\n",
    "\n",
    "p_micro, r_micro, f1_micro, _ = prfs(y_pred=pred_NB, y_true=y_test, average=\"micro\")\n",
    "print(\"Micro Evaluation: Precision: %.4f; Recall: %.4f; F1-Score: %.4f\" % (p_micro, r_micro, f1_micro))\n",
    "\n",
    "p_macro, r_macro, f1_macro, _ = prfs(y_pred=pred_NB, y_true=y_test, average=\"macro\")\n",
    "print(\"Macro Evaluation: Precision: %.4f; Recall: %.4f; F1-Score: %.4f\" % (p_macro, r_macro, f1_macro))"
   ]
  },
  {
   "cell_type": "code",
   "execution_count": 20,
   "id": "178674d1",
   "metadata": {},
   "outputs": [
    {
     "name": "stdout",
     "output_type": "stream",
     "text": [
      "[[2242  433]\n",
      " [ 603  694]]\n",
      "\n",
      "\n",
      "              precision    recall  f1-score   support\n",
      "\n",
      "           0       0.79      0.84      0.81      2675\n",
      "           1       0.62      0.54      0.57      1297\n",
      "\n",
      "    accuracy                           0.74      3972\n",
      "   macro avg       0.70      0.69      0.69      3972\n",
      "weighted avg       0.73      0.74      0.73      3972\n",
      "\n"
     ]
    }
   ],
   "source": [
    "# making a Confusion matrix for better understanding of precision\n",
    "from sklearn.metrics import classification_report,confusion_matrix\n",
    "print(confusion_matrix(y_test,pred_NB))\n",
    "print('\\n')\n",
    "print(classification_report(y_test,pred_NB))"
   ]
  },
  {
   "cell_type": "code",
   "execution_count": 21,
   "id": "f16d7102",
   "metadata": {},
   "outputs": [
    {
     "data": {
      "image/png": "[encoded data removed]",
      "text/plain": [
       "<Figure size 400x300 with 1 Axes>"
      ]
     },
     "metadata": {},
     "output_type": "display_data"
    }
   ],
   "source": [
    "confusion_matrices = confusion_matrix(y_test,pred_NB)\n",
    "\n",
    "\n",
    "# Plotting the confusion matrix as a heatmap\n",
    "plt.figure(figsize=(4, 3))\n",
    "sns.heatmap(confusion_matrices, annot=True, fmt=\"d\", cmap=\"Greens\", cbar=False)\n",
    "plt.title(\"Confusion Matrix for Naive Bayes\")\n",
    "plt.xlabel(\"Predicted Value\")\n",
    "plt.ylabel(\"True\")\n",
    "plt.show()"
   ]
  },
  {
   "cell_type": "markdown",
   "id": "1550f516",
   "metadata": {},
   "source": [
    "### 2. Logistic Regression Classifier"
   ]
  },
  {
   "cell_type": "code",
   "execution_count": 22,
   "id": "3222d087",
   "metadata": {},
   "outputs": [],
   "source": [
    "# Train classifier on the training split\n",
    "from sklearn.linear_model import LogisticRegression\n",
    "\n",
    "logreg_clsfier = LogisticRegression(solver=\"lbfgs\", random_state=42, max_iter=1000)\n",
    "\n",
    "logreg_clsfier = logreg_clsfier.fit(X_train, y_train)"
   ]
  },
  {
   "cell_type": "code",
   "execution_count": 23,
   "id": "33288582",
   "metadata": {},
   "outputs": [
    {
     "name": "stdout",
     "output_type": "stream",
     "text": [
      "accuracy: 0.7727\n"
     ]
    }
   ],
   "source": [
    "# Evaluate performance on the test split\n",
    "import numpy as np\n",
    "\n",
    "pred_LR = logreg_clsfier.predict(X_test)\n",
    "accuracy = np.sum((pred_LR == y_test).astype(int)) / pred_LR.size\n",
    "print(\"accuracy: %.4f\" % (accuracy))"
   ]
  },
  {
   "cell_type": "code",
   "execution_count": 24,
   "id": "55561794",
   "metadata": {},
   "outputs": [
    {
     "name": "stdout",
     "output_type": "stream",
     "text": [
      "Micro Evaluation: Precision: 0.7727; Recall: 0.7727; F1-Score: 0.7727\n",
      "Macro Evaluation: Precision: 0.7498; Recall: 0.7079; F1-Score: 0.7204\n"
     ]
    }
   ],
   "source": [
    "# Precision, Recall, F1-Score\n",
    "from sklearn.metrics import precision_recall_fscore_support as prfs\n",
    "\n",
    "p_micro, r_micro, f1_micro, _ = prfs(y_pred=pred_LR, y_true=y_test, average=\"micro\")\n",
    "print(\"Micro Evaluation: Precision: %.4f; Recall: %.4f; F1-Score: %.4f\" % (p_micro, r_micro, f1_micro))\n",
    "\n",
    "p_macro, r_macro, f1_macro, _ = prfs(y_pred=pred_LR, y_true=y_test, average=\"macro\")\n",
    "print(\"Macro Evaluation: Precision: %.4f; Recall: %.4f; F1-Score: %.4f\" % (p_macro, r_macro, f1_macro))"
   ]
  },
  {
   "cell_type": "code",
   "execution_count": 25,
   "id": "eb72fe80",
   "metadata": {},
   "outputs": [
    {
     "name": "stdout",
     "output_type": "stream",
     "text": [
      "[0.70990233 0.71243712 0.72263827 0.70575631 0.73161448]\n",
      "0.7164697022762007\n"
     ]
    }
   ],
   "source": [
    "#Cross-validation for performance evaluation and model selection\n",
    "from sklearn.model_selection import cross_val_score\n",
    "import random\n",
    "import numpy as np\n",
    "np.random.seed(42)\n",
    "random.seed(32)\n",
    "\n",
    "scores = cross_val_score(logreg_clsfier, X, y, cv=5, scoring=\"f1_macro\")\n",
    "print(scores)\n",
    "print(scores.mean())"
   ]
  },
  {
   "cell_type": "code",
   "execution_count": 26,
   "id": "ccd04c5c",
   "metadata": {},
   "outputs": [
    {
     "name": "stdout",
     "output_type": "stream",
     "text": [
      "Fitting 5 folds for each of 100 candidates, totalling 500 fits\n",
      "[CV 1/5] END ................C=0.01, penalty=l2;, score=0.498 total time=   0.2s\n",
      "[CV 2/5] END ................C=0.01, penalty=l2;, score=0.497 total time=   0.0s\n",
      "[CV 3/5] END ................C=0.01, penalty=l2;, score=0.482 total time=   0.0s\n",
      "[CV 4/5] END ................C=0.01, penalty=l2;, score=0.485 total time=   0.0s\n",
      "[CV 5/5] END ................C=0.01, penalty=l2;, score=0.495 total time=   0.1s\n",
      "[CV 1/5] END C=0.010722672220103232, penalty=l2;, score=0.505 total time=   0.1s\n",
      "[CV 2/5] END C=0.010722672220103232, penalty=l2;, score=0.513 total time=   0.2s\n",
      "[CV 3/5] END C=0.010722672220103232, penalty=l2;, score=0.489 total time=   0.1s\n",
      "[CV 4/5] END C=0.010722672220103232, penalty=l2;, score=0.489 total time=   0.1s\n",
      "[CV 5/5] END C=0.010722672220103232, penalty=l2;, score=0.503 total time=   0.1s\n",
      "[CV 1/5] END C=0.011497569953977356, penalty=l2;, score=0.516 total time=   0.1s\n",
      "[CV 2/5] END C=0.011497569953977356, penalty=l2;, score=0.521 total time=   0.1s\n",
      "[CV 3/5] END C=0.011497569953977356, penalty=l2;, score=0.501 total time=   0.1s\n",
      "[CV 4/5] END C=0.011497569953977356, penalty=l2;, score=0.499 total time=   0.2s\n",
      "[CV 5/5] END C=0.011497569953977356, penalty=l2;, score=0.518 total time=   0.1s\n",
      "[CV 1/5] END C=0.012328467394420659, penalty=l2;, score=0.526 total time=   0.1s\n",
      "[CV 2/5] END C=0.012328467394420659, penalty=l2;, score=0.528 total time=   0.1s\n",
      "[CV 3/5] END C=0.012328467394420659, penalty=l2;, score=0.509 total time=   0.1s\n",
      "[CV 4/5] END C=0.012328467394420659, penalty=l2;, score=0.520 total time=   0.3s\n",
      "[CV 5/5] END C=0.012328467394420659, penalty=l2;, score=0.527 total time=   0.1s\n",
      "[CV 1/5] END C=0.013219411484660288, penalty=l2;, score=0.533 total time=   0.1s\n",
      "[CV 2/5] END C=0.013219411484660288, penalty=l2;, score=0.540 total time=   0.1s\n",
      "[CV 3/5] END C=0.013219411484660288, penalty=l2;, score=0.524 total time=   0.1s\n",
      "[CV 4/5] END C=0.013219411484660288, penalty=l2;, score=0.531 total time=   0.1s\n",
      "[CV 5/5] END C=0.013219411484660288, penalty=l2;, score=0.531 total time=   0.1s\n",
      "[CV 1/5] END C=0.014174741629268055, penalty=l2;, score=0.552 total time=   0.3s\n",
      "[CV 2/5] END C=0.014174741629268055, penalty=l2;, score=0.547 total time=   0.1s\n",
      "[CV 3/5] END C=0.014174741629268055, penalty=l2;, score=0.532 total time=   0.1s\n",
      "[CV 4/5] END C=0.014174741629268055, penalty=l2;, score=0.541 total time=   0.1s\n",
      "[CV 5/5] END C=0.014174741629268055, penalty=l2;, score=0.538 total time=   0.1s\n",
      "[CV 1/5] END .C=0.01519911082952934, penalty=l2;, score=0.556 total time=   0.4s\n",
      "[CV 2/5] END .C=0.01519911082952934, penalty=l2;, score=0.552 total time=   0.1s\n",
      "[CV 3/5] END .C=0.01519911082952934, penalty=l2;, score=0.539 total time=   0.1s\n",
      "[CV 4/5] END .C=0.01519911082952934, penalty=l2;, score=0.556 total time=   0.2s\n",
      "[CV 5/5] END .C=0.01519911082952934, penalty=l2;, score=0.546 total time=   0.2s\n",
      "[CV 1/5] END C=0.016297508346206444, penalty=l2;, score=0.559 total time=   0.2s\n",
      "[CV 2/5] END C=0.016297508346206444, penalty=l2;, score=0.555 total time=   0.1s\n",
      "[CV 3/5] END C=0.016297508346206444, penalty=l2;, score=0.546 total time=   0.2s\n",
      "[CV 4/5] END C=0.016297508346206444, penalty=l2;, score=0.563 total time=   0.1s\n",
      "[CV 5/5] END C=0.016297508346206444, penalty=l2;, score=0.551 total time=   0.1s\n",
      "[CV 1/5] END .C=0.01747528400007684, penalty=l2;, score=0.563 total time=   0.1s\n",
      "[CV 2/5] END .C=0.01747528400007684, penalty=l2;, score=0.560 total time=   0.1s\n",
      "[CV 3/5] END .C=0.01747528400007684, penalty=l2;, score=0.555 total time=   0.1s\n",
      "[CV 4/5] END .C=0.01747528400007684, penalty=l2;, score=0.563 total time=   0.2s\n",
      "[CV 5/5] END .C=0.01747528400007684, penalty=l2;, score=0.557 total time=   0.1s\n",
      "[CV 1/5] END .C=0.01873817422860384, penalty=l2;, score=0.570 total time=   0.1s\n",
      "[CV 2/5] END .C=0.01873817422860384, penalty=l2;, score=0.564 total time=   0.1s\n",
      "[CV 3/5] END .C=0.01873817422860384, penalty=l2;, score=0.562 total time=   0.1s\n",
      "[CV 4/5] END .C=0.01873817422860384, penalty=l2;, score=0.571 total time=   0.1s\n",
      "[CV 5/5] END .C=0.01873817422860384, penalty=l2;, score=0.565 total time=   0.2s\n",
      "[CV 1/5] END .C=0.02009233002565047, penalty=l2;, score=0.573 total time=   0.1s\n",
      "[CV 2/5] END .C=0.02009233002565047, penalty=l2;, score=0.571 total time=   0.1s\n",
      "[CV 3/5] END .C=0.02009233002565047, penalty=l2;, score=0.567 total time=   0.1s\n",
      "[CV 4/5] END .C=0.02009233002565047, penalty=l2;, score=0.580 total time=   0.1s\n",
      "[CV 5/5] END .C=0.02009233002565047, penalty=l2;, score=0.571 total time=   0.1s\n",
      "[CV 1/5] END C=0.021544346900318846, penalty=l2;, score=0.580 total time=   0.1s\n",
      "[CV 2/5] END C=0.021544346900318846, penalty=l2;, score=0.574 total time=   0.2s\n",
      "[CV 3/5] END C=0.021544346900318846, penalty=l2;, score=0.574 total time=   0.1s\n",
      "[CV 4/5] END C=0.021544346900318846, penalty=l2;, score=0.584 total time=   0.1s\n",
      "[CV 5/5] END C=0.021544346900318846, penalty=l2;, score=0.573 total time=   0.1s\n",
      "[CV 1/5] END C=0.023101297000831605, penalty=l2;, score=0.589 total time=   0.1s\n",
      "[CV 2/5] END C=0.023101297000831605, penalty=l2;, score=0.579 total time=   0.2s\n",
      "[CV 3/5] END C=0.023101297000831605, penalty=l2;, score=0.580 total time=   0.1s\n",
      "[CV 4/5] END C=0.023101297000831605, penalty=l2;, score=0.587 total time=   0.1s\n",
      "[CV 5/5] END C=0.023101297000831605, penalty=l2;, score=0.575 total time=   0.1s\n",
      "[CV 1/5] END C=0.024770763559917114, penalty=l2;, score=0.593 total time=   0.1s\n",
      "[CV 2/5] END C=0.024770763559917114, penalty=l2;, score=0.579 total time=   0.1s\n",
      "[CV 3/5] END C=0.024770763559917114, penalty=l2;, score=0.590 total time=   0.1s\n",
      "[CV 4/5] END C=0.024770763559917114, penalty=l2;, score=0.595 total time=   0.2s\n",
      "[CV 5/5] END C=0.024770763559917114, penalty=l2;, score=0.581 total time=   0.1s\n",
      "[CV 1/5] END C=0.026560877829466867, penalty=l2;, score=0.595 total time=   0.1s\n",
      "[CV 2/5] END C=0.026560877829466867, penalty=l2;, score=0.589 total time=   0.2s\n",
      "[CV 3/5] END C=0.026560877829466867, penalty=l2;, score=0.592 total time=   0.0s\n",
      "[CV 4/5] END C=0.026560877829466867, penalty=l2;, score=0.600 total time=   0.3s\n",
      "[CV 5/5] END C=0.026560877829466867, penalty=l2;, score=0.588 total time=   0.1s\n",
      "[CV 1/5] END .C=0.02848035868435802, penalty=l2;, score=0.597 total time=   0.1s\n",
      "[CV 2/5] END .C=0.02848035868435802, penalty=l2;, score=0.591 total time=   0.1s\n",
      "[CV 3/5] END .C=0.02848035868435802, penalty=l2;, score=0.595 total time=   0.1s\n",
      "[CV 4/5] END .C=0.02848035868435802, penalty=l2;, score=0.602 total time=   0.1s\n",
      "[CV 5/5] END .C=0.02848035868435802, penalty=l2;, score=0.592 total time=   0.2s\n",
      "[CV 1/5] END C=0.030538555088334154, penalty=l2;, score=0.601 total time=   0.2s\n",
      "[CV 2/5] END C=0.030538555088334154, penalty=l2;, score=0.594 total time=   0.1s\n",
      "[CV 3/5] END C=0.030538555088334154, penalty=l2;, score=0.599 total time=   0.1s\n",
      "[CV 4/5] END C=0.030538555088334154, penalty=l2;, score=0.607 total time=   0.1s\n",
      "[CV 5/5] END C=0.030538555088334154, penalty=l2;, score=0.597 total time=   0.1s\n",
      "[CV 1/5] END .C=0.03274549162877728, penalty=l2;, score=0.603 total time=   0.2s\n",
      "[CV 2/5] END .C=0.03274549162877728, penalty=l2;, score=0.597 total time=   0.1s\n",
      "[CV 3/5] END .C=0.03274549162877728, penalty=l2;, score=0.603 total time=   0.1s\n",
      "[CV 4/5] END .C=0.03274549162877728, penalty=l2;, score=0.614 total time=   0.1s\n",
      "[CV 5/5] END .C=0.03274549162877728, penalty=l2;, score=0.599 total time=   0.1s\n",
      "[CV 1/5] END .C=0.03511191734215131, penalty=l2;, score=0.604 total time=   0.1s\n",
      "[CV 2/5] END .C=0.03511191734215131, penalty=l2;, score=0.604 total time=   0.1s\n",
      "[CV 3/5] END .C=0.03511191734215131, penalty=l2;, score=0.607 total time=   0.2s\n",
      "[CV 4/5] END .C=0.03511191734215131, penalty=l2;, score=0.617 total time=   0.1s\n",
      "[CV 5/5] END .C=0.03511191734215131, penalty=l2;, score=0.604 total time=   0.1s\n",
      "[CV 1/5] END C=0.037649358067924674, penalty=l2;, score=0.605 total time=   0.2s\n",
      "[CV 2/5] END C=0.037649358067924674, penalty=l2;, score=0.604 total time=   0.1s\n",
      "[CV 3/5] END C=0.037649358067924674, penalty=l2;, score=0.607 total time=   0.1s\n",
      "[CV 4/5] END C=0.037649358067924674, penalty=l2;, score=0.621 total time=   0.2s\n",
      "[CV 5/5] END C=0.037649358067924674, penalty=l2;, score=0.608 total time=   0.1s\n",
      "[CV 1/5] END C=0.040370172585965536, penalty=l2;, score=0.610 total time=   0.1s\n"
     ]
    },
    {
     "name": "stdout",
     "output_type": "stream",
     "text": [
      "[CV 2/5] END C=0.040370172585965536, penalty=l2;, score=0.610 total time=   0.1s\n",
      "[CV 3/5] END C=0.040370172585965536, penalty=l2;, score=0.617 total time=   0.1s\n",
      "[CV 4/5] END C=0.040370172585965536, penalty=l2;, score=0.625 total time=   0.1s\n",
      "[CV 5/5] END C=0.040370172585965536, penalty=l2;, score=0.610 total time=   0.3s\n",
      "[CV 1/5] END .C=0.04328761281083057, penalty=l2;, score=0.613 total time=   0.1s\n",
      "[CV 2/5] END .C=0.04328761281083057, penalty=l2;, score=0.619 total time=   0.1s\n",
      "[CV 3/5] END .C=0.04328761281083057, penalty=l2;, score=0.619 total time=   0.1s\n",
      "[CV 4/5] END .C=0.04328761281083057, penalty=l2;, score=0.626 total time=   0.1s\n",
      "[CV 5/5] END .C=0.04328761281083057, penalty=l2;, score=0.614 total time=   0.1s\n",
      "[CV 1/5] END C=0.046415888336127795, penalty=l2;, score=0.617 total time=   0.1s\n",
      "[CV 2/5] END C=0.046415888336127795, penalty=l2;, score=0.625 total time=   0.3s\n",
      "[CV 3/5] END C=0.046415888336127795, penalty=l2;, score=0.625 total time=   0.1s\n",
      "[CV 4/5] END C=0.046415888336127795, penalty=l2;, score=0.631 total time=   0.1s\n",
      "[CV 5/5] END C=0.046415888336127795, penalty=l2;, score=0.614 total time=   0.1s\n",
      "[CV 1/5] END C=0.049770235643321115, penalty=l2;, score=0.622 total time=   0.1s\n",
      "[CV 2/5] END C=0.049770235643321115, penalty=l2;, score=0.625 total time=   0.3s\n",
      "[CV 3/5] END C=0.049770235643321115, penalty=l2;, score=0.623 total time=   0.1s\n",
      "[CV 4/5] END C=0.049770235643321115, penalty=l2;, score=0.633 total time=   0.1s\n",
      "[CV 5/5] END C=0.049770235643321115, penalty=l2;, score=0.614 total time=   0.2s\n",
      "[CV 1/5] END ..C=0.0533669923120631, penalty=l2;, score=0.623 total time=   0.2s\n",
      "[CV 2/5] END ..C=0.0533669923120631, penalty=l2;, score=0.629 total time=   0.1s\n",
      "[CV 3/5] END ..C=0.0533669923120631, penalty=l2;, score=0.628 total time=   0.2s\n",
      "[CV 4/5] END ..C=0.0533669923120631, penalty=l2;, score=0.638 total time=   0.3s\n",
      "[CV 5/5] END ..C=0.0533669923120631, penalty=l2;, score=0.625 total time=   0.1s\n",
      "[CV 1/5] END .C=0.05722367659350217, penalty=l2;, score=0.629 total time=   0.1s\n",
      "[CV 2/5] END .C=0.05722367659350217, penalty=l2;, score=0.633 total time=   0.1s\n",
      "[CV 3/5] END .C=0.05722367659350217, penalty=l2;, score=0.631 total time=   0.1s\n",
      "[CV 4/5] END .C=0.05722367659350217, penalty=l2;, score=0.643 total time=   0.3s\n",
      "[CV 5/5] END .C=0.05722367659350217, penalty=l2;, score=0.632 total time=   0.1s\n",
      "[CV 1/5] END .C=0.06135907273413173, penalty=l2;, score=0.633 total time=   0.1s\n",
      "[CV 2/5] END .C=0.06135907273413173, penalty=l2;, score=0.636 total time=   0.1s\n",
      "[CV 3/5] END .C=0.06135907273413173, penalty=l2;, score=0.635 total time=   0.2s\n",
      "[CV 4/5] END .C=0.06135907273413173, penalty=l2;, score=0.652 total time=   0.2s\n",
      "[CV 5/5] END .C=0.06135907273413173, penalty=l2;, score=0.637 total time=   0.2s\n",
      "[CV 1/5] END .C=0.06579332246575682, penalty=l2;, score=0.633 total time=   0.3s\n",
      "[CV 2/5] END .C=0.06579332246575682, penalty=l2;, score=0.643 total time=   0.1s\n",
      "[CV 3/5] END .C=0.06579332246575682, penalty=l2;, score=0.640 total time=   0.2s\n",
      "[CV 4/5] END .C=0.06579332246575682, penalty=l2;, score=0.659 total time=   0.1s\n",
      "[CV 5/5] END .C=0.06579332246575682, penalty=l2;, score=0.644 total time=   0.1s\n",
      "[CV 1/5] END .C=0.07054802310718646, penalty=l2;, score=0.634 total time=   0.3s\n",
      "[CV 2/5] END .C=0.07054802310718646, penalty=l2;, score=0.647 total time=   0.2s\n",
      "[CV 3/5] END .C=0.07054802310718646, penalty=l2;, score=0.643 total time=   0.2s\n",
      "[CV 4/5] END .C=0.07054802310718646, penalty=l2;, score=0.661 total time=   0.2s\n",
      "[CV 5/5] END .C=0.07054802310718646, penalty=l2;, score=0.646 total time=   0.3s\n",
      "[CV 1/5] END .C=0.07564633275546291, penalty=l2;, score=0.634 total time=   0.2s\n",
      "[CV 2/5] END .C=0.07564633275546291, penalty=l2;, score=0.648 total time=   0.2s\n",
      "[CV 3/5] END .C=0.07564633275546291, penalty=l2;, score=0.645 total time=   0.3s\n",
      "[CV 4/5] END .C=0.07564633275546291, penalty=l2;, score=0.663 total time=   0.2s\n",
      "[CV 5/5] END .C=0.07564633275546291, penalty=l2;, score=0.649 total time=   0.2s\n",
      "[CV 1/5] END .C=0.08111308307896872, penalty=l2;, score=0.636 total time=   0.2s\n",
      "[CV 2/5] END .C=0.08111308307896872, penalty=l2;, score=0.649 total time=   0.2s\n",
      "[CV 3/5] END .C=0.08111308307896872, penalty=l2;, score=0.650 total time=   0.2s\n",
      "[CV 4/5] END .C=0.08111308307896872, penalty=l2;, score=0.665 total time=   0.3s\n",
      "[CV 5/5] END .C=0.08111308307896872, penalty=l2;, score=0.650 total time=   0.2s\n",
      "[CV 1/5] END .C=0.08697490026177834, penalty=l2;, score=0.641 total time=   0.2s\n",
      "[CV 2/5] END .C=0.08697490026177834, penalty=l2;, score=0.652 total time=   0.2s\n",
      "[CV 3/5] END .C=0.08697490026177834, penalty=l2;, score=0.655 total time=   0.2s\n",
      "[CV 4/5] END .C=0.08697490026177834, penalty=l2;, score=0.667 total time=   0.2s\n",
      "[CV 5/5] END .C=0.08697490026177834, penalty=l2;, score=0.654 total time=   0.3s\n",
      "[CV 1/5] END ...C=0.093260334688322, penalty=l2;, score=0.642 total time=   0.2s\n",
      "[CV 2/5] END ...C=0.093260334688322, penalty=l2;, score=0.659 total time=   0.2s\n",
      "[CV 3/5] END ...C=0.093260334688322, penalty=l2;, score=0.656 total time=   0.2s\n",
      "[CV 4/5] END ...C=0.093260334688322, penalty=l2;, score=0.672 total time=   0.2s\n",
      "[CV 5/5] END ...C=0.093260334688322, penalty=l2;, score=0.662 total time=   0.2s\n",
      "[CV 1/5] END .................C=0.1, penalty=l2;, score=0.646 total time=   0.2s\n",
      "[CV 2/5] END .................C=0.1, penalty=l2;, score=0.664 total time=   0.3s\n",
      "[CV 3/5] END .................C=0.1, penalty=l2;, score=0.657 total time=   0.2s\n",
      "[CV 4/5] END .................C=0.1, penalty=l2;, score=0.674 total time=   0.2s\n",
      "[CV 5/5] END .................C=0.1, penalty=l2;, score=0.667 total time=   0.2s\n",
      "[CV 1/5] END .C=0.10722672220103231, penalty=l2;, score=0.647 total time=   0.2s\n",
      "[CV 2/5] END .C=0.10722672220103231, penalty=l2;, score=0.670 total time=   0.4s\n",
      "[CV 3/5] END .C=0.10722672220103231, penalty=l2;, score=0.657 total time=   0.2s\n",
      "[CV 4/5] END .C=0.10722672220103231, penalty=l2;, score=0.680 total time=   0.2s\n",
      "[CV 5/5] END .C=0.10722672220103231, penalty=l2;, score=0.668 total time=   0.2s\n",
      "[CV 1/5] END .C=0.11497569953977356, penalty=l2;, score=0.649 total time=   0.2s\n",
      "[CV 2/5] END .C=0.11497569953977356, penalty=l2;, score=0.669 total time=   0.2s\n",
      "[CV 3/5] END .C=0.11497569953977356, penalty=l2;, score=0.661 total time=   0.2s\n",
      "[CV 4/5] END .C=0.11497569953977356, penalty=l2;, score=0.682 total time=   0.3s\n",
      "[CV 5/5] END .C=0.11497569953977356, penalty=l2;, score=0.668 total time=   0.2s\n",
      "[CV 1/5] END .C=0.12328467394420659, penalty=l2;, score=0.655 total time=   0.2s\n",
      "[CV 2/5] END .C=0.12328467394420659, penalty=l2;, score=0.673 total time=   0.3s\n",
      "[CV 3/5] END .C=0.12328467394420659, penalty=l2;, score=0.661 total time=   0.2s\n",
      "[CV 4/5] END .C=0.12328467394420659, penalty=l2;, score=0.683 total time=   0.3s\n",
      "[CV 5/5] END .C=0.12328467394420659, penalty=l2;, score=0.669 total time=   0.2s\n",
      "[CV 1/5] END .C=0.13219411484660293, penalty=l2;, score=0.655 total time=   0.2s\n",
      "[CV 2/5] END .C=0.13219411484660293, penalty=l2;, score=0.674 total time=   0.3s\n",
      "[CV 3/5] END .C=0.13219411484660293, penalty=l2;, score=0.665 total time=   0.2s\n",
      "[CV 4/5] END .C=0.13219411484660293, penalty=l2;, score=0.688 total time=   0.3s\n",
      "[CV 5/5] END .C=0.13219411484660293, penalty=l2;, score=0.671 total time=   0.3s\n",
      "[CV 1/5] END .C=0.14174741629268056, penalty=l2;, score=0.657 total time=   0.4s\n",
      "[CV 2/5] END .C=0.14174741629268056, penalty=l2;, score=0.675 total time=   0.2s\n",
      "[CV 3/5] END .C=0.14174741629268056, penalty=l2;, score=0.668 total time=   0.2s\n",
      "[CV 4/5] END .C=0.14174741629268056, penalty=l2;, score=0.691 total time=   0.2s\n",
      "[CV 5/5] END .C=0.14174741629268056, penalty=l2;, score=0.673 total time=   0.2s\n",
      "[CV 1/5] END ..C=0.1519911082952934, penalty=l2;, score=0.660 total time=   0.4s\n",
      "[CV 2/5] END ..C=0.1519911082952934, penalty=l2;, score=0.678 total time=   0.2s\n",
      "[CV 3/5] END ..C=0.1519911082952934, penalty=l2;, score=0.670 total time=   0.2s\n",
      "[CV 4/5] END ..C=0.1519911082952934, penalty=l2;, score=0.694 total time=   0.3s\n",
      "[CV 5/5] END ..C=0.1519911082952934, penalty=l2;, score=0.673 total time=   0.4s\n",
      "[CV 1/5] END .C=0.16297508346206444, penalty=l2;, score=0.661 total time=   0.2s\n",
      "[CV 2/5] END .C=0.16297508346206444, penalty=l2;, score=0.678 total time=   0.3s\n",
      "[CV 3/5] END .C=0.16297508346206444, penalty=l2;, score=0.672 total time=   0.4s\n"
     ]
    },
    {
     "name": "stdout",
     "output_type": "stream",
     "text": [
      "[CV 4/5] END .C=0.16297508346206444, penalty=l2;, score=0.695 total time=   0.2s\n",
      "[CV 5/5] END .C=0.16297508346206444, penalty=l2;, score=0.676 total time=   0.3s\n",
      "[CV 1/5] END .C=0.17475284000076838, penalty=l2;, score=0.663 total time=   0.3s\n",
      "[CV 2/5] END .C=0.17475284000076838, penalty=l2;, score=0.678 total time=   0.2s\n",
      "[CV 3/5] END .C=0.17475284000076838, penalty=l2;, score=0.675 total time=   0.2s\n",
      "[CV 4/5] END .C=0.17475284000076838, penalty=l2;, score=0.699 total time=   0.4s\n",
      "[CV 5/5] END .C=0.17475284000076838, penalty=l2;, score=0.679 total time=   0.3s\n",
      "[CV 1/5] END ..C=0.1873817422860384, penalty=l2;, score=0.665 total time=   0.2s\n",
      "[CV 2/5] END ..C=0.1873817422860384, penalty=l2;, score=0.678 total time=   0.4s\n",
      "[CV 3/5] END ..C=0.1873817422860384, penalty=l2;, score=0.679 total time=   0.3s\n",
      "[CV 4/5] END ..C=0.1873817422860384, penalty=l2;, score=0.697 total time=   0.3s\n",
      "[CV 5/5] END ..C=0.1873817422860384, penalty=l2;, score=0.680 total time=   0.4s\n",
      "[CV 1/5] END .C=0.20092330025650468, penalty=l2;, score=0.668 total time=   0.3s\n",
      "[CV 2/5] END .C=0.20092330025650468, penalty=l2;, score=0.682 total time=   0.3s\n",
      "[CV 3/5] END .C=0.20092330025650468, penalty=l2;, score=0.678 total time=   0.3s\n",
      "[CV 4/5] END .C=0.20092330025650468, penalty=l2;, score=0.699 total time=   0.3s\n",
      "[CV 5/5] END .C=0.20092330025650468, penalty=l2;, score=0.685 total time=   0.3s\n",
      "[CV 1/5] END .C=0.21544346900318845, penalty=l2;, score=0.672 total time=   0.2s\n",
      "[CV 2/5] END .C=0.21544346900318845, penalty=l2;, score=0.683 total time=   0.4s\n",
      "[CV 3/5] END .C=0.21544346900318845, penalty=l2;, score=0.679 total time=   0.3s\n",
      "[CV 4/5] END .C=0.21544346900318845, penalty=l2;, score=0.704 total time=   0.3s\n",
      "[CV 5/5] END .C=0.21544346900318845, penalty=l2;, score=0.687 total time=   0.2s\n",
      "[CV 1/5] END .C=0.23101297000831605, penalty=l2;, score=0.671 total time=   0.3s\n",
      "[CV 2/5] END .C=0.23101297000831605, penalty=l2;, score=0.683 total time=   0.4s\n",
      "[CV 3/5] END .C=0.23101297000831605, penalty=l2;, score=0.682 total time=   0.3s\n",
      "[CV 4/5] END .C=0.23101297000831605, penalty=l2;, score=0.707 total time=   0.3s\n",
      "[CV 5/5] END .C=0.23101297000831605, penalty=l2;, score=0.686 total time=   0.3s\n",
      "[CV 1/5] END .C=0.24770763559917114, penalty=l2;, score=0.675 total time=   0.3s\n",
      "[CV 2/5] END .C=0.24770763559917114, penalty=l2;, score=0.685 total time=   0.3s\n",
      "[CV 3/5] END .C=0.24770763559917114, penalty=l2;, score=0.685 total time=   0.3s\n",
      "[CV 4/5] END .C=0.24770763559917114, penalty=l2;, score=0.707 total time=   0.4s\n",
      "[CV 5/5] END .C=0.24770763559917114, penalty=l2;, score=0.686 total time=   0.3s\n",
      "[CV 1/5] END .C=0.26560877829466867, penalty=l2;, score=0.677 total time=   0.3s\n",
      "[CV 2/5] END .C=0.26560877829466867, penalty=l2;, score=0.687 total time=   0.3s\n",
      "[CV 3/5] END .C=0.26560877829466867, penalty=l2;, score=0.688 total time=   0.3s\n",
      "[CV 4/5] END .C=0.26560877829466867, penalty=l2;, score=0.706 total time=   0.5s\n",
      "[CV 5/5] END .C=0.26560877829466867, penalty=l2;, score=0.686 total time=   0.3s\n",
      "[CV 1/5] END ..C=0.2848035868435802, penalty=l2;, score=0.679 total time=   0.3s\n",
      "[CV 2/5] END ..C=0.2848035868435802, penalty=l2;, score=0.689 total time=   0.3s\n",
      "[CV 3/5] END ..C=0.2848035868435802, penalty=l2;, score=0.688 total time=   0.3s\n",
      "[CV 4/5] END ..C=0.2848035868435802, penalty=l2;, score=0.708 total time=   0.4s\n",
      "[CV 5/5] END ..C=0.2848035868435802, penalty=l2;, score=0.684 total time=   0.3s\n",
      "[CV 1/5] END .C=0.30538555088334157, penalty=l2;, score=0.683 total time=   0.5s\n",
      "[CV 2/5] END .C=0.30538555088334157, penalty=l2;, score=0.691 total time=   0.3s\n",
      "[CV 3/5] END .C=0.30538555088334157, penalty=l2;, score=0.689 total time=   0.3s\n",
      "[CV 4/5] END .C=0.30538555088334157, penalty=l2;, score=0.708 total time=   0.3s\n",
      "[CV 5/5] END .C=0.30538555088334157, penalty=l2;, score=0.687 total time=   0.3s\n",
      "[CV 1/5] END .C=0.32745491628777285, penalty=l2;, score=0.682 total time=   0.5s\n",
      "[CV 2/5] END .C=0.32745491628777285, penalty=l2;, score=0.693 total time=   0.3s\n",
      "[CV 3/5] END .C=0.32745491628777285, penalty=l2;, score=0.689 total time=   0.4s\n",
      "[CV 4/5] END .C=0.32745491628777285, penalty=l2;, score=0.708 total time=   0.3s\n",
      "[CV 5/5] END .C=0.32745491628777285, penalty=l2;, score=0.686 total time=   0.3s\n",
      "[CV 1/5] END ..C=0.3511191734215131, penalty=l2;, score=0.682 total time=   0.3s\n",
      "[CV 2/5] END ..C=0.3511191734215131, penalty=l2;, score=0.693 total time=   0.3s\n",
      "[CV 3/5] END ..C=0.3511191734215131, penalty=l2;, score=0.689 total time=   0.5s\n",
      "[CV 4/5] END ..C=0.3511191734215131, penalty=l2;, score=0.710 total time=   0.4s\n",
      "[CV 5/5] END ..C=0.3511191734215131, penalty=l2;, score=0.690 total time=   0.3s\n",
      "[CV 1/5] END .C=0.37649358067924676, penalty=l2;, score=0.682 total time=   0.4s\n",
      "[CV 2/5] END .C=0.37649358067924676, penalty=l2;, score=0.694 total time=   0.3s\n",
      "[CV 3/5] END .C=0.37649358067924676, penalty=l2;, score=0.690 total time=   0.4s\n",
      "[CV 4/5] END .C=0.37649358067924676, penalty=l2;, score=0.709 total time=   0.5s\n",
      "[CV 5/5] END .C=0.37649358067924676, penalty=l2;, score=0.690 total time=   0.3s\n",
      "[CV 1/5] END ..C=0.4037017258596556, penalty=l2;, score=0.682 total time=   0.4s\n",
      "[CV 2/5] END ..C=0.4037017258596556, penalty=l2;, score=0.695 total time=   0.3s\n",
      "[CV 3/5] END ..C=0.4037017258596556, penalty=l2;, score=0.692 total time=   0.3s\n",
      "[CV 4/5] END ..C=0.4037017258596556, penalty=l2;, score=0.710 total time=   0.3s\n",
      "[CV 5/5] END ..C=0.4037017258596556, penalty=l2;, score=0.692 total time=   0.5s\n",
      "[CV 1/5] END .C=0.43287612810830595, penalty=l2;, score=0.683 total time=   0.4s\n",
      "[CV 2/5] END .C=0.43287612810830595, penalty=l2;, score=0.696 total time=   0.4s\n",
      "[CV 3/5] END .C=0.43287612810830595, penalty=l2;, score=0.694 total time=   0.4s\n",
      "[CV 4/5] END .C=0.43287612810830595, penalty=l2;, score=0.711 total time=   0.4s\n",
      "[CV 5/5] END .C=0.43287612810830595, penalty=l2;, score=0.693 total time=   0.4s\n",
      "[CV 1/5] END ...C=0.464158883361278, penalty=l2;, score=0.686 total time=   0.4s\n",
      "[CV 2/5] END ...C=0.464158883361278, penalty=l2;, score=0.697 total time=   0.5s\n",
      "[CV 3/5] END ...C=0.464158883361278, penalty=l2;, score=0.695 total time=   0.4s\n",
      "[CV 4/5] END ...C=0.464158883361278, penalty=l2;, score=0.711 total time=   0.4s\n",
      "[CV 5/5] END ...C=0.464158883361278, penalty=l2;, score=0.691 total time=   0.4s\n",
      "[CV 1/5] END .C=0.49770235643321115, penalty=l2;, score=0.687 total time=   0.4s\n",
      "[CV 2/5] END .C=0.49770235643321115, penalty=l2;, score=0.696 total time=   0.5s\n",
      "[CV 3/5] END .C=0.49770235643321115, penalty=l2;, score=0.696 total time=   0.4s\n",
      "[CV 4/5] END .C=0.49770235643321115, penalty=l2;, score=0.711 total time=   0.5s\n",
      "[CV 5/5] END .C=0.49770235643321115, penalty=l2;, score=0.690 total time=   0.5s\n",
      "[CV 1/5] END ...C=0.533669923120631, penalty=l2;, score=0.689 total time=   0.4s\n",
      "[CV 2/5] END ...C=0.533669923120631, penalty=l2;, score=0.696 total time=   0.4s\n",
      "[CV 3/5] END ...C=0.533669923120631, penalty=l2;, score=0.697 total time=   0.4s\n",
      "[CV 4/5] END ...C=0.533669923120631, penalty=l2;, score=0.713 total time=   0.6s\n",
      "[CV 5/5] END ...C=0.533669923120631, penalty=l2;, score=0.690 total time=   0.5s\n",
      "[CV 1/5] END ..C=0.5722367659350217, penalty=l2;, score=0.691 total time=   0.4s\n",
      "[CV 2/5] END ..C=0.5722367659350217, penalty=l2;, score=0.696 total time=   0.4s\n",
      "[CV 3/5] END ..C=0.5722367659350217, penalty=l2;, score=0.696 total time=   0.4s\n",
      "[CV 4/5] END ..C=0.5722367659350217, penalty=l2;, score=0.714 total time=   0.6s\n",
      "[CV 5/5] END ..C=0.5722367659350217, penalty=l2;, score=0.691 total time=   0.4s\n",
      "[CV 1/5] END ..C=0.6135907273413173, penalty=l2;, score=0.691 total time=   0.4s\n",
      "[CV 2/5] END ..C=0.6135907273413173, penalty=l2;, score=0.698 total time=   0.4s\n",
      "[CV 3/5] END ..C=0.6135907273413173, penalty=l2;, score=0.694 total time=   0.3s\n",
      "[CV 4/5] END ..C=0.6135907273413173, penalty=l2;, score=0.714 total time=   0.3s\n",
      "[CV 5/5] END ..C=0.6135907273413173, penalty=l2;, score=0.695 total time=   0.4s\n",
      "[CV 1/5] END ..C=0.6579332246575682, penalty=l2;, score=0.689 total time=   0.6s\n",
      "[CV 2/5] END ..C=0.6579332246575682, penalty=l2;, score=0.697 total time=   0.5s\n",
      "[CV 3/5] END ..C=0.6579332246575682, penalty=l2;, score=0.696 total time=   0.5s\n",
      "[CV 4/5] END ..C=0.6579332246575682, penalty=l2;, score=0.716 total time=   0.4s\n",
      "[CV 5/5] END ..C=0.6579332246575682, penalty=l2;, score=0.695 total time=   0.4s\n"
     ]
    },
    {
     "name": "stdout",
     "output_type": "stream",
     "text": [
      "[CV 1/5] END ..C=0.7054802310718645, penalty=l2;, score=0.694 total time=   0.6s\n",
      "[CV 2/5] END ..C=0.7054802310718645, penalty=l2;, score=0.697 total time=   0.4s\n",
      "[CV 3/5] END ..C=0.7054802310718645, penalty=l2;, score=0.697 total time=   0.5s\n",
      "[CV 4/5] END ..C=0.7054802310718645, penalty=l2;, score=0.717 total time=   0.4s\n",
      "[CV 5/5] END ..C=0.7054802310718645, penalty=l2;, score=0.697 total time=   0.5s\n",
      "[CV 1/5] END ..C=0.7564633275546291, penalty=l2;, score=0.695 total time=   0.5s\n",
      "[CV 2/5] END ..C=0.7564633275546291, penalty=l2;, score=0.697 total time=   0.5s\n",
      "[CV 3/5] END ..C=0.7564633275546291, penalty=l2;, score=0.698 total time=   0.6s\n",
      "[CV 4/5] END ..C=0.7564633275546291, penalty=l2;, score=0.718 total time=   0.5s\n",
      "[CV 5/5] END ..C=0.7564633275546291, penalty=l2;, score=0.697 total time=   0.4s\n",
      "[CV 1/5] END ..C=0.8111308307896873, penalty=l2;, score=0.695 total time=   0.5s\n",
      "[CV 2/5] END ..C=0.8111308307896873, penalty=l2;, score=0.700 total time=   0.5s\n",
      "[CV 3/5] END ..C=0.8111308307896873, penalty=l2;, score=0.699 total time=   0.5s\n",
      "[CV 4/5] END ..C=0.8111308307896873, penalty=l2;, score=0.719 total time=   0.8s\n",
      "[CV 5/5] END ..C=0.8111308307896873, penalty=l2;, score=0.695 total time=   0.5s\n",
      "[CV 1/5] END ..C=0.8697490026177834, penalty=l2;, score=0.694 total time=   0.6s\n",
      "[CV 2/5] END ..C=0.8697490026177834, penalty=l2;, score=0.700 total time=   0.6s\n",
      "[CV 3/5] END ..C=0.8697490026177834, penalty=l2;, score=0.699 total time=   0.5s\n",
      "[CV 4/5] END ..C=0.8697490026177834, penalty=l2;, score=0.715 total time=   0.5s\n",
      "[CV 5/5] END ..C=0.8697490026177834, penalty=l2;, score=0.697 total time=   0.8s\n",
      "[CV 1/5] END ..C=0.9326033468832199, penalty=l2;, score=0.695 total time=   0.6s\n",
      "[CV 2/5] END ..C=0.9326033468832199, penalty=l2;, score=0.700 total time=   0.6s\n",
      "[CV 3/5] END ..C=0.9326033468832199, penalty=l2;, score=0.698 total time=   0.6s\n",
      "[CV 4/5] END ..C=0.9326033468832199, penalty=l2;, score=0.717 total time=   0.6s\n",
      "[CV 5/5] END ..C=0.9326033468832199, penalty=l2;, score=0.697 total time=   0.5s\n",
      "[CV 1/5] END .................C=1.0, penalty=l2;, score=0.695 total time=   0.6s\n",
      "[CV 2/5] END .................C=1.0, penalty=l2;, score=0.699 total time=   0.8s\n",
      "[CV 3/5] END .................C=1.0, penalty=l2;, score=0.696 total time=   0.6s\n",
      "[CV 4/5] END .................C=1.0, penalty=l2;, score=0.718 total time=   0.6s\n",
      "[CV 5/5] END .................C=1.0, penalty=l2;, score=0.697 total time=   0.5s\n",
      "[CV 1/5] END ...C=1.072267222010323, penalty=l2;, score=0.694 total time=   0.7s\n",
      "[CV 2/5] END ...C=1.072267222010323, penalty=l2;, score=0.701 total time=   0.8s\n",
      "[CV 3/5] END ...C=1.072267222010323, penalty=l2;, score=0.697 total time=   0.5s\n",
      "[CV 4/5] END ...C=1.072267222010323, penalty=l2;, score=0.719 total time=   0.6s\n",
      "[CV 5/5] END ...C=1.072267222010323, penalty=l2;, score=0.697 total time=   0.7s\n",
      "[CV 1/5] END ..C=1.1497569953977356, penalty=l2;, score=0.695 total time=   0.7s\n",
      "[CV 2/5] END ..C=1.1497569953977356, penalty=l2;, score=0.700 total time=   0.5s\n",
      "[CV 3/5] END ..C=1.1497569953977356, penalty=l2;, score=0.698 total time=   0.6s\n",
      "[CV 4/5] END ..C=1.1497569953977356, penalty=l2;, score=0.719 total time=   0.7s\n",
      "[CV 5/5] END ..C=1.1497569953977356, penalty=l2;, score=0.699 total time=   0.6s\n",
      "[CV 1/5] END ...C=1.232846739442066, penalty=l2;, score=0.697 total time=   0.7s\n",
      "[CV 2/5] END ...C=1.232846739442066, penalty=l2;, score=0.699 total time=   0.7s\n",
      "[CV 3/5] END ...C=1.232846739442066, penalty=l2;, score=0.700 total time=   0.6s\n",
      "[CV 4/5] END ...C=1.232846739442066, penalty=l2;, score=0.718 total time=   0.8s\n",
      "[CV 5/5] END ...C=1.232846739442066, penalty=l2;, score=0.701 total time=   0.7s\n",
      "[CV 1/5] END ..C=1.3219411484660286, penalty=l2;, score=0.697 total time=   0.8s\n",
      "[CV 2/5] END ..C=1.3219411484660286, penalty=l2;, score=0.701 total time=   0.6s\n",
      "[CV 3/5] END ..C=1.3219411484660286, penalty=l2;, score=0.701 total time=   0.7s\n",
      "[CV 4/5] END ..C=1.3219411484660286, penalty=l2;, score=0.721 total time=   0.6s\n",
      "[CV 5/5] END ..C=1.3219411484660286, penalty=l2;, score=0.701 total time=   0.8s\n",
      "[CV 1/5] END ..C=1.4174741629268048, penalty=l2;, score=0.697 total time=   0.8s\n",
      "[CV 2/5] END ..C=1.4174741629268048, penalty=l2;, score=0.701 total time=   0.8s\n",
      "[CV 3/5] END ..C=1.4174741629268048, penalty=l2;, score=0.701 total time=   0.8s\n",
      "[CV 4/5] END ..C=1.4174741629268048, penalty=l2;, score=0.722 total time=   0.6s\n",
      "[CV 5/5] END ..C=1.4174741629268048, penalty=l2;, score=0.700 total time=   0.8s\n",
      "[CV 1/5] END ..C=1.5199110829529332, penalty=l2;, score=0.696 total time=   0.9s\n",
      "[CV 2/5] END ..C=1.5199110829529332, penalty=l2;, score=0.702 total time=   0.8s\n",
      "[CV 3/5] END ..C=1.5199110829529332, penalty=l2;, score=0.700 total time=   0.8s\n",
      "[CV 4/5] END ..C=1.5199110829529332, penalty=l2;, score=0.723 total time=   0.7s\n",
      "[CV 5/5] END ..C=1.5199110829529332, penalty=l2;, score=0.704 total time=   0.8s\n",
      "[CV 1/5] END ...C=1.629750834620645, penalty=l2;, score=0.697 total time=   0.9s\n",
      "[CV 2/5] END ...C=1.629750834620645, penalty=l2;, score=0.703 total time=   0.8s\n",
      "[CV 3/5] END ...C=1.629750834620645, penalty=l2;, score=0.699 total time=   0.9s\n",
      "[CV 4/5] END ...C=1.629750834620645, penalty=l2;, score=0.723 total time=   0.9s\n",
      "[CV 5/5] END ...C=1.629750834620645, penalty=l2;, score=0.703 total time=   0.8s\n",
      "[CV 1/5] END ..C=1.7475284000076847, penalty=l2;, score=0.697 total time=   0.8s\n",
      "[CV 2/5] END ..C=1.7475284000076847, penalty=l2;, score=0.702 total time=   0.8s\n",
      "[CV 3/5] END ..C=1.7475284000076847, penalty=l2;, score=0.703 total time=   0.6s\n",
      "[CV 4/5] END ..C=1.7475284000076847, penalty=l2;, score=0.722 total time=   1.0s\n",
      "[CV 5/5] END ..C=1.7475284000076847, penalty=l2;, score=0.702 total time=   1.0s\n",
      "[CV 1/5] END ...C=1.873817422860385, penalty=l2;, score=0.697 total time=   1.0s\n",
      "[CV 2/5] END ...C=1.873817422860385, penalty=l2;, score=0.702 total time=   1.0s\n",
      "[CV 3/5] END ...C=1.873817422860385, penalty=l2;, score=0.703 total time=   0.8s\n",
      "[CV 4/5] END ...C=1.873817422860385, penalty=l2;, score=0.722 total time=   1.0s\n",
      "[CV 5/5] END ...C=1.873817422860385, penalty=l2;, score=0.704 total time=   0.9s\n",
      "[CV 1/5] END ..C=2.0092330025650478, penalty=l2;, score=0.698 total time=   0.7s\n",
      "[CV 2/5] END ..C=2.0092330025650478, penalty=l2;, score=0.702 total time=   0.7s\n",
      "[CV 3/5] END ..C=2.0092330025650478, penalty=l2;, score=0.704 total time=   0.7s\n",
      "[CV 4/5] END ..C=2.0092330025650478, penalty=l2;, score=0.722 total time=   0.8s\n",
      "[CV 5/5] END ..C=2.0092330025650478, penalty=l2;, score=0.701 total time=   0.7s\n",
      "[CV 1/5] END ..C=2.1544346900318843, penalty=l2;, score=0.699 total time=   0.7s\n",
      "[CV 2/5] END ..C=2.1544346900318843, penalty=l2;, score=0.701 total time=   0.9s\n",
      "[CV 3/5] END ..C=2.1544346900318843, penalty=l2;, score=0.703 total time=   0.7s\n",
      "[CV 4/5] END ..C=2.1544346900318843, penalty=l2;, score=0.722 total time=   0.8s\n",
      "[CV 5/5] END ..C=2.1544346900318843, penalty=l2;, score=0.701 total time=   0.7s\n",
      "[CV 1/5] END ....C=2.31012970008316, penalty=l2;, score=0.696 total time=   0.8s\n",
      "[CV 2/5] END ....C=2.31012970008316, penalty=l2;, score=0.700 total time=   0.9s\n",
      "[CV 3/5] END ....C=2.31012970008316, penalty=l2;, score=0.701 total time=   0.7s\n",
      "[CV 4/5] END ....C=2.31012970008316, penalty=l2;, score=0.720 total time=   0.8s\n",
      "[CV 5/5] END ....C=2.31012970008316, penalty=l2;, score=0.698 total time=   0.7s\n",
      "[CV 1/5] END ..C=2.4770763559917115, penalty=l2;, score=0.695 total time=   0.8s\n",
      "[CV 2/5] END ..C=2.4770763559917115, penalty=l2;, score=0.699 total time=   0.8s\n",
      "[CV 3/5] END ..C=2.4770763559917115, penalty=l2;, score=0.702 total time=   0.9s\n",
      "[CV 4/5] END ..C=2.4770763559917115, penalty=l2;, score=0.720 total time=   1.0s\n",
      "[CV 5/5] END ..C=2.4770763559917115, penalty=l2;, score=0.698 total time=   0.7s\n",
      "[CV 1/5] END ...C=2.656087782946687, penalty=l2;, score=0.693 total time=   0.8s\n",
      "[CV 2/5] END ...C=2.656087782946687, penalty=l2;, score=0.700 total time=   0.8s\n",
      "[CV 3/5] END ...C=2.656087782946687, penalty=l2;, score=0.699 total time=   0.8s\n",
      "[CV 4/5] END ...C=2.656087782946687, penalty=l2;, score=0.720 total time=   1.0s\n",
      "[CV 5/5] END ...C=2.656087782946687, penalty=l2;, score=0.697 total time=   0.8s\n",
      "[CV 1/5] END ...C=2.848035868435802, penalty=l2;, score=0.697 total time=   0.8s\n",
      "[CV 2/5] END ...C=2.848035868435802, penalty=l2;, score=0.698 total time=   0.9s\n"
     ]
    },
    {
     "name": "stdout",
     "output_type": "stream",
     "text": [
      "[CV 3/5] END ...C=2.848035868435802, penalty=l2;, score=0.698 total time=   0.9s\n",
      "[CV 4/5] END ...C=2.848035868435802, penalty=l2;, score=0.721 total time=   0.9s\n",
      "[CV 5/5] END ...C=2.848035868435802, penalty=l2;, score=0.696 total time=   0.9s\n",
      "[CV 1/5] END ..C=3.0538555088334154, penalty=l2;, score=0.696 total time=   0.9s\n",
      "[CV 2/5] END ..C=3.0538555088334154, penalty=l2;, score=0.696 total time=   0.8s\n",
      "[CV 3/5] END ..C=3.0538555088334154, penalty=l2;, score=0.697 total time=   0.8s\n",
      "[CV 4/5] END ..C=3.0538555088334154, penalty=l2;, score=0.726 total time=   0.9s\n",
      "[CV 5/5] END ..C=3.0538555088334154, penalty=l2;, score=0.697 total time=   0.9s\n",
      "[CV 1/5] END ..C=3.2745491628777286, penalty=l2;, score=0.697 total time=   1.1s\n",
      "[CV 2/5] END ..C=3.2745491628777286, penalty=l2;, score=0.693 total time=   0.8s\n",
      "[CV 3/5] END ..C=3.2745491628777286, penalty=l2;, score=0.697 total time=   0.9s\n",
      "[CV 4/5] END ..C=3.2745491628777286, penalty=l2;, score=0.728 total time=   0.9s\n",
      "[CV 5/5] END ..C=3.2745491628777286, penalty=l2;, score=0.698 total time=   1.0s\n",
      "[CV 1/5] END ...C=3.511191734215131, penalty=l2;, score=0.696 total time=   1.1s\n",
      "[CV 2/5] END ...C=3.511191734215131, penalty=l2;, score=0.692 total time=   1.0s\n",
      "[CV 3/5] END ...C=3.511191734215131, penalty=l2;, score=0.697 total time=   1.1s\n",
      "[CV 4/5] END ...C=3.511191734215131, penalty=l2;, score=0.727 total time=   1.2s\n",
      "[CV 5/5] END ...C=3.511191734215131, penalty=l2;, score=0.698 total time=   1.0s\n",
      "[CV 1/5] END ..C=3.7649358067924674, penalty=l2;, score=0.696 total time=   1.3s\n",
      "[CV 2/5] END ..C=3.7649358067924674, penalty=l2;, score=0.692 total time=   1.1s\n",
      "[CV 3/5] END ..C=3.7649358067924674, penalty=l2;, score=0.696 total time=   1.1s\n",
      "[CV 4/5] END ..C=3.7649358067924674, penalty=l2;, score=0.727 total time=   1.2s\n",
      "[CV 5/5] END ..C=3.7649358067924674, penalty=l2;, score=0.702 total time=   1.1s\n",
      "[CV 1/5] END ...C=4.037017258596554, penalty=l2;, score=0.694 total time=   1.1s\n",
      "[CV 2/5] END ...C=4.037017258596554, penalty=l2;, score=0.691 total time=   0.9s\n",
      "[CV 3/5] END ...C=4.037017258596554, penalty=l2;, score=0.695 total time=   0.9s\n",
      "[CV 4/5] END ...C=4.037017258596554, penalty=l2;, score=0.726 total time=   1.0s\n",
      "[CV 5/5] END ...C=4.037017258596554, penalty=l2;, score=0.702 total time=   1.1s\n",
      "[CV 1/5] END ...C=4.328761281083057, penalty=l2;, score=0.693 total time=   1.0s\n",
      "[CV 2/5] END ...C=4.328761281083057, penalty=l2;, score=0.689 total time=   0.9s\n",
      "[CV 3/5] END ...C=4.328761281083057, penalty=l2;, score=0.693 total time=   0.9s\n",
      "[CV 4/5] END ...C=4.328761281083057, penalty=l2;, score=0.724 total time=   1.0s\n",
      "[CV 5/5] END ...C=4.328761281083057, penalty=l2;, score=0.705 total time=   1.0s\n",
      "[CV 1/5] END ...C=4.641588833612782, penalty=l2;, score=0.692 total time=   1.1s\n",
      "[CV 2/5] END ...C=4.641588833612782, penalty=l2;, score=0.690 total time=   1.2s\n",
      "[CV 3/5] END ...C=4.641588833612782, penalty=l2;, score=0.694 total time=   1.0s\n",
      "[CV 4/5] END ...C=4.641588833612782, penalty=l2;, score=0.724 total time=   0.9s\n",
      "[CV 5/5] END ...C=4.641588833612782, penalty=l2;, score=0.705 total time=   1.1s\n",
      "[CV 1/5] END ..C=4.9770235643321135, penalty=l2;, score=0.692 total time=   1.0s\n",
      "[CV 2/5] END ..C=4.9770235643321135, penalty=l2;, score=0.689 total time=   1.1s\n",
      "[CV 3/5] END ..C=4.9770235643321135, penalty=l2;, score=0.696 total time=   1.0s\n",
      "[CV 4/5] END ..C=4.9770235643321135, penalty=l2;, score=0.723 total time=   1.0s\n",
      "[CV 5/5] END ..C=4.9770235643321135, penalty=l2;, score=0.707 total time=   1.1s\n",
      "[CV 1/5] END ...C=5.336699231206313, penalty=l2;, score=0.691 total time=   1.1s\n",
      "[CV 2/5] END ...C=5.336699231206313, penalty=l2;, score=0.688 total time=   0.9s\n",
      "[CV 3/5] END ...C=5.336699231206313, penalty=l2;, score=0.696 total time=   1.1s\n",
      "[CV 4/5] END ...C=5.336699231206313, penalty=l2;, score=0.723 total time=   1.1s\n",
      "[CV 5/5] END ...C=5.336699231206313, penalty=l2;, score=0.708 total time=   1.1s\n",
      "[CV 1/5] END ....C=5.72236765935022, penalty=l2;, score=0.689 total time=   1.0s\n",
      "[CV 2/5] END ....C=5.72236765935022, penalty=l2;, score=0.689 total time=   1.0s\n",
      "[CV 3/5] END ....C=5.72236765935022, penalty=l2;, score=0.697 total time=   1.1s\n",
      "[CV 4/5] END ....C=5.72236765935022, penalty=l2;, score=0.722 total time=   1.2s\n",
      "[CV 5/5] END ....C=5.72236765935022, penalty=l2;, score=0.708 total time=   1.0s\n",
      "[CV 1/5] END ...C=6.135907273413176, penalty=l2;, score=0.688 total time=   1.1s\n",
      "[CV 2/5] END ...C=6.135907273413176, penalty=l2;, score=0.690 total time=   1.1s\n",
      "[CV 3/5] END ...C=6.135907273413176, penalty=l2;, score=0.697 total time=   1.0s\n",
      "[CV 4/5] END ...C=6.135907273413176, penalty=l2;, score=0.723 total time=   1.1s\n",
      "[CV 5/5] END ...C=6.135907273413176, penalty=l2;, score=0.708 total time=   1.1s\n",
      "[CV 1/5] END ..C=6.5793322465756825, penalty=l2;, score=0.689 total time=   1.3s\n",
      "[CV 2/5] END ..C=6.5793322465756825, penalty=l2;, score=0.691 total time=   1.2s\n",
      "[CV 3/5] END ..C=6.5793322465756825, penalty=l2;, score=0.699 total time=   1.0s\n",
      "[CV 4/5] END ..C=6.5793322465756825, penalty=l2;, score=0.724 total time=   1.2s\n",
      "[CV 5/5] END ..C=6.5793322465756825, penalty=l2;, score=0.706 total time=   1.2s\n",
      "[CV 1/5] END ...C=7.054802310718645, penalty=l2;, score=0.688 total time=   1.2s\n",
      "[CV 2/5] END ...C=7.054802310718645, penalty=l2;, score=0.691 total time=   1.1s\n",
      "[CV 3/5] END ...C=7.054802310718645, penalty=l2;, score=0.700 total time=   1.0s\n",
      "[CV 4/5] END ...C=7.054802310718645, penalty=l2;, score=0.723 total time=   1.0s\n",
      "[CV 5/5] END ...C=7.054802310718645, penalty=l2;, score=0.704 total time=   1.2s\n",
      "[CV 1/5] END ....C=7.56463327554629, penalty=l2;, score=0.687 total time=   1.2s\n",
      "[CV 2/5] END ....C=7.56463327554629, penalty=l2;, score=0.691 total time=   1.2s\n",
      "[CV 3/5] END ....C=7.56463327554629, penalty=l2;, score=0.701 total time=   1.4s\n",
      "[CV 4/5] END ....C=7.56463327554629, penalty=l2;, score=0.722 total time=   1.1s\n",
      "[CV 5/5] END ....C=7.56463327554629, penalty=l2;, score=0.705 total time=   1.3s\n",
      "[CV 1/5] END ...C=8.111308307896872, penalty=l2;, score=0.688 total time=   1.1s\n",
      "[CV 2/5] END ...C=8.111308307896872, penalty=l2;, score=0.693 total time=   1.3s\n",
      "[CV 3/5] END ...C=8.111308307896872, penalty=l2;, score=0.700 total time=   1.1s\n",
      "[CV 4/5] END ...C=8.111308307896872, penalty=l2;, score=0.720 total time=   1.4s\n",
      "[CV 5/5] END ...C=8.111308307896872, penalty=l2;, score=0.704 total time=   1.3s\n",
      "[CV 1/5] END ...C=8.697490026177835, penalty=l2;, score=0.687 total time=   1.2s\n",
      "[CV 2/5] END ...C=8.697490026177835, penalty=l2;, score=0.693 total time=   1.2s\n",
      "[CV 3/5] END ...C=8.697490026177835, penalty=l2;, score=0.700 total time=   1.1s\n",
      "[CV 4/5] END ...C=8.697490026177835, penalty=l2;, score=0.719 total time=   1.2s\n",
      "[CV 5/5] END ...C=8.697490026177835, penalty=l2;, score=0.703 total time=   1.4s\n",
      "[CV 1/5] END ...C=9.326033468832199, penalty=l2;, score=0.685 total time=   1.2s\n",
      "[CV 2/5] END ...C=9.326033468832199, penalty=l2;, score=0.694 total time=   1.3s\n",
      "[CV 3/5] END ...C=9.326033468832199, penalty=l2;, score=0.699 total time=   1.3s\n",
      "[CV 4/5] END ...C=9.326033468832199, penalty=l2;, score=0.716 total time=   1.2s\n",
      "[CV 5/5] END ...C=9.326033468832199, penalty=l2;, score=0.703 total time=   1.4s\n",
      "[CV 1/5] END ................C=10.0, penalty=l2;, score=0.685 total time=   1.3s\n",
      "[CV 2/5] END ................C=10.0, penalty=l2;, score=0.690 total time=   1.5s\n",
      "[CV 3/5] END ................C=10.0, penalty=l2;, score=0.699 total time=   1.3s\n",
      "[CV 4/5] END ................C=10.0, penalty=l2;, score=0.720 total time=   1.3s\n",
      "[CV 5/5] END ................C=10.0, penalty=l2;, score=0.702 total time=   1.4s\n",
      "logregn_grid_cv.best_params_: \n",
      "{'C': 1.873817422860385, 'penalty': 'l2'}\n",
      "logregn_grid_cv.best_score_: \n",
      "0.7055784211360405\n"
     ]
    }
   ],
   "source": [
    "#Use GridSearchCV for model selection\n",
    "from sklearn.model_selection import GridSearchCV\n",
    "\n",
    "logregn_l1_parameter_grid = {\n",
    "    \"C\": np.logspace(-2, 1, 100),\n",
    "    \"penalty\": [\n",
    "        # 'l1',\n",
    "        'l2',\n",
    "        # 'elasticnet'\n",
    "        # None,\n",
    "    ]\n",
    "}\n",
    "\n",
    "logreg_clsfier = LogisticRegression(solver=\"lbfgs\", random_state=42, max_iter=1000)\n",
    "\n",
    "# meta_clf_gridcv = GridSearchCV(logreg_clf, logreg_l1_param_grid, scoring=\"f1_macro\", verbose=1)\n",
    "logregn_grid_cv = GridSearchCV(logreg_clsfier, logregn_l1_parameter_grid, scoring=\"f1_macro\", verbose=3)\n",
    "logregn_grid_cv.fit(X_train, y_train)\n",
    "import sys\n",
    "# save all GridSearchCV results\n",
    "print(\"logregn_grid_cv.best_params_: \", file=sys.stdout)\n",
    "print(logregn_grid_cv.best_params_, file=sys.stdout)\n",
    "print(\"logregn_grid_cv.best_score_: \", file=sys.stdout)\n",
    "print(logregn_grid_cv.best_score_, file=sys.stdout)"
   ]
  },
  {
   "cell_type": "code",
   "execution_count": 27,
   "id": "d98985eb",
   "metadata": {},
   "outputs": [],
   "source": [
    "best_logreg_clsfier = logregn_grid_cv.best_estimator_\n",
    "logreg_clsfier = best_logreg_clsfier.fit(X_train, y_train)"
   ]
  },
  {
   "cell_type": "code",
   "execution_count": 28,
   "id": "131d96b0",
   "metadata": {},
   "outputs": [
    {
     "name": "stdout",
     "output_type": "stream",
     "text": [
      "Micro Evaluation: Precision: 0.7661; Recall: 0.7661; F1-Score: 0.7661\n",
      "Macro Evaluation: Precision: 0.7383; Recall: 0.7060; F1-Score: 0.7165\n"
     ]
    }
   ],
   "source": [
    "#Using the best estimator that is retrained on the whole training split dataset\n",
    "pred_LR = logreg_clsfier.predict(X_test)\n",
    "\n",
    "from sklearn.metrics import precision_recall_fscore_support as prfs\n",
    "\n",
    "p_micro, r_micro, f1_micro, _ = prfs(y_pred=pred_LR, y_true=y_test, average=\"micro\")\n",
    "print(\"Micro Evaluation: Precision: %.4f; Recall: %.4f; F1-Score: %.4f\" % (p_micro, r_micro, f1_micro))\n",
    "\n",
    "p_macro, r_macro, f1_macro, _ = prfs(y_pred=pred_LR, y_true=y_test, average=\"macro\")\n",
    "print(\"Macro Evaluation: Precision: %.4f; Recall: %.4f; F1-Score: %.4f\" % (p_macro, r_macro, f1_macro))"
   ]
  },
  {
   "cell_type": "code",
   "execution_count": 29,
   "id": "e90a3c81",
   "metadata": {},
   "outputs": [
    {
     "name": "stdout",
     "output_type": "stream",
     "text": [
      "[[2352  323]\n",
      " [ 606  691]]\n",
      "\n",
      "\n",
      "              precision    recall  f1-score   support\n",
      "\n",
      "           0       0.80      0.88      0.84      2675\n",
      "           1       0.68      0.53      0.60      1297\n",
      "\n",
      "    accuracy                           0.77      3972\n",
      "   macro avg       0.74      0.71      0.72      3972\n",
      "weighted avg       0.76      0.77      0.76      3972\n",
      "\n"
     ]
    }
   ],
   "source": [
    "# making a Confusion matrix for better understanding of precision\n",
    "from sklearn.metrics import classification_report,confusion_matrix\n",
    "print(confusion_matrix(y_test,pred_LR))\n",
    "print('\\n')\n",
    "print(classification_report(y_test,pred_LR))"
   ]
  },
  {
   "cell_type": "code",
   "execution_count": 30,
   "id": "3fa60ddc",
   "metadata": {},
   "outputs": [
    {
     "data": {
      "image/png": "[encoded data removed]",
      "text/plain": [
       "<Figure size 400x300 with 1 Axes>"
      ]
     },
     "metadata": {},
     "output_type": "display_data"
    }
   ],
   "source": [
    "confusion_matrices = confusion_matrix(y_test,pred_LR)\n",
    "\n",
    "# Plotting the confusion matrix as a heatmap\n",
    "plt.figure(figsize=(4, 3))\n",
    "sns.heatmap(confusion_matrices, annot=True, fmt=\"d\", cmap=\"Blues\", cbar=False)\n",
    "plt.title(\"Confusion Matrix for Logistic Regression\")\n",
    "plt.xlabel(\"Predicted Value\")\n",
    "plt.ylabel(\"True\")\n",
    "plt.show()"
   ]
  }
 ],
 "metadata": {
  "kernelspec": {
   "display_name": "Python 3 (ipykernel)",
   "language": "python",
   "name": "python3"
  },
  "language_info": {
   "codemirror_mode": {
    "name": "ipython",
    "version": 3
   },
   "file_extension": ".py",
   "mimetype": "text/x-python",
   "name": "python",
   "nbconvert_exporter": "python",
   "pygments_lexer": "ipython3",
   "version": "3.11.4"
  }
 },
 "nbformat": 4,
 "nbformat_minor": 5
}
